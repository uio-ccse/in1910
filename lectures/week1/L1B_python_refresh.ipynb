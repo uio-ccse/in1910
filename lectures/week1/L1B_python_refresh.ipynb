{
 "cells": [
  {
   "cell_type": "markdown",
   "metadata": {},
   "source": [
    "## Lecture 1B\n",
    "### A quick refreshment on Python\n",
    "\n",
    "We expect those taking IN1910 to have some Python experience, but you might not have used it that recently. This notebook is meant as a quick refresher on some Python syntax. We will show some simple examples to get the ball rolling, and you can use the first set of exercises to try your hand and writing some code yourself.\n",
    "\n",
    "If you don't know any Python going into IN1910, you should be able to pick it up along the way, but you will have to expect to devot more time to working with the material. In this case, please ask the lecturer or your TA for helpful advice on how to better learn Python.\n",
    "\n",
    "If this refresh is not sufficient for your needs, *A Primer on Scientific Programming with Python* by Langtangen is a good resource to use."
   ]
  },
  {
   "cell_type": "markdown",
   "metadata": {},
   "source": [
    "#### A short note on Jupyter Notebook\n",
    "\n",
    "This document, and most of the others in IN1910, are written in Jupyter notebooks. This is a tool that allows for combining traditional text with code that is executable. Previously known as IPython notebooks, the name was changed to reflect that it works with many different languages. Jupyter notebooks has grown into a popular tool for scientific programming, both for teaching and working. \n",
    "\n",
    "You are not required to become proficient at using or writing notebooks in this course, and you are free to simply read the documents, and do all your own coding in your preferred text editor. However, Jupyter is a nice tool to know, so also feel free to use it to solve exercises and play around with code and concepts.\n",
    "\n",
    "In notebooks, everything consists of cells, which are either markdown (text, math, html, etc) or code. In the markdown cells you can render mathematics with LaTeX syntax, and you can include markdown tables, lists, and use html to include images. In the code cells you can write code, and then execute the cell to see the output. You can do this either by clicking the `Run` command in the toolbar on the top, or use the more efficient shortcut `Ctrl+Enter` or `Shift+Enter`. When you run a code, the output will appear below the cell. If you make a change to a cell that has already been run you can rerun the cell, and the new output will replace the old one.\n",
    "\n",
    "One element that might be confusing to those that have not used notebooks before, is that the notebook is one interactive session, and so variables are remembered after running a cell. However, when loading up a notebook for the first time, everything is forgotten, and you will need to run the cells in order again for everything to work properly. Here a helpful tip is to use the `Kernel` > `Restart and Run All` functionality in the toolbar, which will run the whole notebook in order and load everything into memory."
   ]
  },
  {
   "cell_type": "markdown",
   "metadata": {},
   "source": [
    "### Variables and Types\n",
    "\n",
    "\n",
    "In Python, as in most languages, we use `=` for assigning variables. We do not need to declare the type of the variables, this is implicit and decided by context"
   ]
  },
  {
   "cell_type": "code",
   "execution_count": 1,
   "metadata": {},
   "outputs": [],
   "source": [
    "t = 0.5\n",
    "v0 = 2\n",
    "a = 0.2\n",
    "s = v0*t + 0.5*a*t**2"
   ]
  },
  {
   "cell_type": "markdown",
   "metadata": {},
   "source": [
    "Here we first assign the three variables `t`, `v0` and `a`. Then we assign the variable `s` based on our other variables by doing some arithmetic. An assignment on the form of the final line is interpreted as follows:\n",
    "* Evaluate the right-hand side of the `=` symbol, this results in an *object*\n",
    "* The left hand side is a name for that object\n",
    "In this case, the result of the computation is a number, and `s` becomes a name for that number. But how do we check what `s` is? We use the `print`-statement."
   ]
  },
  {
   "cell_type": "code",
   "execution_count": 2,
   "metadata": {},
   "outputs": [
    {
     "name": "stdout",
     "output_type": "stream",
     "text": [
      "1.025\n"
     ]
    }
   ],
   "source": [
    "print(s)"
   ]
  },
  {
   "cell_type": "markdown",
   "metadata": {},
   "source": [
    "Note that `s` is a name pointing at a number object containing 1.025. If we now for example reassign `t`, `s` will _not_ change."
   ]
  },
  {
   "cell_type": "markdown",
   "metadata": {},
   "source": [
    "To have more control over how we print, we use print formatting. You can see this link for a [comprehensive introduction](https://docs.python.org/3/tutorial/inputoutput.html). But for now we just give an example:"
   ]
  },
  {
   "cell_type": "code",
   "execution_count": 3,
   "metadata": {},
   "outputs": [
    {
     "name": "stdout",
     "output_type": "stream",
     "text": [
      "After 0.50 seconds, the object has traveled 1.025 meters\n"
     ]
    }
   ],
   "source": [
    "print(\"After {:.2f} seconds, the object has traveled {:.3f} meters\".format(t, s))"
   ]
  },
  {
   "cell_type": "markdown",
   "metadata": {},
   "source": [
    "Here we define a text string to be written out by using `\"`, inside the text string we define replacement fields by writing `{}` and then we use `.format` to fill these in with given values. Inside the replacement fields we write `:.2f` and `:.3f` to write precisely 2 and 3 decimals respectively. (The `f` stands for *float*)\n",
    "\n",
    "Note that if print out the distance with two decimals, we get a bit of a surprising result:"
   ]
  },
  {
   "cell_type": "code",
   "execution_count": 4,
   "metadata": {},
   "outputs": [
    {
     "name": "stdout",
     "output_type": "stream",
     "text": [
      "1.02\n"
     ]
    }
   ],
   "source": [
    "print(\"{:.2f}\".format(s))"
   ]
  },
  {
   "cell_type": "markdown",
   "metadata": {},
   "source": [
    "1.025 is rounded to 1.02 and not to 1.03! This is because we are running Python3, which uses something called [*bankers' rounding*](https://en.wikipedia.org/wiki/Rounding), in which a .5 is rounded down if the preceeding number is even, and up if it is odd."
   ]
  },
  {
   "cell_type": "code",
   "execution_count": 5,
   "metadata": {},
   "outputs": [
    {
     "name": "stdout",
     "output_type": "stream",
     "text": [
      "0\n",
      "2\n",
      "2\n",
      "4\n"
     ]
    }
   ],
   "source": [
    "print(round(0.5))\n",
    "print(round(1.5))\n",
    "print(round(2.5))\n",
    "print(round(3.5))"
   ]
  },
  {
   "cell_type": "markdown",
   "metadata": {},
   "source": [
    "#### Importing \n",
    "\n",
    "Python includes a large number of standard libraries and external packages. In IN1910 we will for example make use of the SciPy stack, which includes packages like numpy, scipy, matplotlib, etc. We can import packages in several ways"
   ]
  },
  {
   "cell_type": "code",
   "execution_count": 6,
   "metadata": {},
   "outputs": [],
   "source": [
    "from math import *\n",
    "import scipy\n",
    "import numpy as np\n",
    "from scipy.integrate import solve_ivp"
   ]
  },
  {
   "cell_type": "markdown",
   "metadata": {},
   "source": [
    "1. These are different examples of importing. The first line uses a *wildcard*-import to import everything in math. Note that while this is OK for a quick example, it is considered bad practice and should be avoided. \n",
    "2. The second statement imports scipy as a package, so now we can use it by writing for example: `scipy.e` The preference for doing this over a wildcard-import is that it keeps the scipy namespace, meaning we (1) don't overwrite anything by accident, and (2) anywhere we use anything from scipy, it will be very apparent from the code.\n",
    "3. The third import is very similar to the second, but we just rename the namespace from numpy to np. This is very common and is just to save some typing later on, as we often use numpy functions quite a lot in our programs. Note that \"np\" is a convention, and you should use exactly that, and not something else. Same for matplotlib.pyplot, which is often shortened to \"plt\".\n",
    "4. The fourth import imports a single function from a package. If you know ahead of time you will only use this single feature from the package. It's a nice way to make that apparent to the user.\n",
    "\n",
    "Import statements should always appear at the top of modules. Modules are what we call seperate python-files."
   ]
  },
  {
   "cell_type": "markdown",
   "metadata": {},
   "source": [
    "#### Exercise 1: Your turn\n",
    "\n",
    "First define the radius of a football as the variable `R`, then compute the volume of the football as the variable `V`, then finally print out the volume with a single decimal. (Hint: You need to either define `pi`, or import it by writing `from math import pi`.)"
   ]
  },
  {
   "cell_type": "code",
   "execution_count": 7,
   "metadata": {},
   "outputs": [],
   "source": [
    "#Fill in your code here"
   ]
  },
  {
   "cell_type": "markdown",
   "metadata": {},
   "source": [
    "### Variable Types\n",
    "\n",
    "In our assignment earlier, we defined four variables, all numbers. However, their datatypes are slightly different. The variables `t`, `a` and `s` were assigned decimal numbers, and therefore became `float` objects, while `v0` is set to an integer number, and became an `integer` object. You can check the type of a variables with the `type` command"
   ]
  },
  {
   "cell_type": "code",
   "execution_count": 8,
   "metadata": {},
   "outputs": [
    {
     "name": "stdout",
     "output_type": "stream",
     "text": [
      "<class 'float'>\n",
      "<class 'int'>\n",
      "<class 'float'>\n",
      "<class 'float'>\n"
     ]
    }
   ],
   "source": [
    "print(type(t))\n",
    "print(type(v0))\n",
    "print(type(a))\n",
    "print(type(s))"
   ]
  },
  {
   "cell_type": "markdown",
   "metadata": {},
   "source": [
    "There are plenty of built-in types in Python 3. Some of the common ones are\n",
    "* Boolean `bool`\n",
    "* Integer `int`\n",
    "* Floating point `float`\n",
    "* Complex floating point `complex`\n",
    "* String `str`\n",
    "* List `list`\n",
    "* Tuple `tuple`\n",
    "* Range-object `range`\n",
    "* Dictionary `dict`\n",
    "* Set `set`\n",
    "* Immutable set `frozenset`\n",
    "\n",
    "There are plenty of others, especially if we include the standard libraries, but not all are equally important."
   ]
  },
  {
   "cell_type": "markdown",
   "metadata": {},
   "source": [
    "#### Mutable vs Immutable\n",
    "\n",
    "Note that some of these types are *mutable*, while some are *immutable*. Variables of mutable types can change, variables of immutable types cannot. \n",
    "\n",
    "Some examples:\n",
    "* Immutable: `bool`, `int`, `float`, `str`\n",
    "* Mutable: `list`, `dict`, `set`\n",
    "\n",
    "Take the following two examples"
   ]
  },
  {
   "cell_type": "code",
   "execution_count": 9,
   "metadata": {},
   "outputs": [
    {
     "name": "stdout",
     "output_type": "stream",
     "text": [
      "5\n"
     ]
    }
   ],
   "source": [
    "a = 5\n",
    "b = a\n",
    "a += 5\n",
    "print(b)"
   ]
  },
  {
   "cell_type": "code",
   "execution_count": 10,
   "metadata": {},
   "outputs": [
    {
     "name": "stdout",
     "output_type": "stream",
     "text": [
      "[5, 10]\n"
     ]
    }
   ],
   "source": [
    "a = [5]\n",
    "b = a\n",
    "a.append(10)\n",
    "print(b)"
   ]
  },
  {
   "cell_type": "markdown",
   "metadata": {},
   "source": [
    "These two example show fundamentaly different behavior. In both cases we make a \"copy\" of the first variable, by assigning `a = b`. We then change `a`, and print out `b`. We might expect that `b` should be unchanged, since we only change `a`. In the first example, this is indeed the case, we see that `b` is still 5. In the second example however, the list `b` is changed! What is going on?\n",
    "\n",
    "To understand this, we need to recall how Python objects work. When we are assigning `b = a`, we are not actually making any new objects, we are simply making a new name, and pointing it as the same object as the name `a` is pointing too. So when we change `a`, we are really changing the underlying list, and so `b` is pointing to the same list object and so is changed. There is ever only a single list object that exists!\n",
    "\n",
    "This is because the list is mutable (changable). When we do the same for the integers, and integer is imutable, so when we say `a += 5`, we are not really changing the underlying integer object in memory, but creating a new one. Python has to do this, because the integer object is immutable and so cannot change. In this case, there will therefore be two integer objects in existence, and `a` points to one of them, `b` to the other."
   ]
  },
  {
   "cell_type": "markdown",
   "metadata": {},
   "source": [
    "#### PythonTutor\n",
    "\n",
    "Often in programming, we will be confused by examples such as the previous ones. In these cases it can be good to draw an example of what is going on behind the scenes in the program. A helpful tool here is the online Python tutor:\n",
    "[http://pythontutor.com](http://pythontutor.com/visualize.html#mode=edit)\n",
    "\n",
    "This tools lets you write Python code and execute it line by line. For each statement executed, it shows what objects and variables exist, and in which scopes. This can be super helpful for understanding confusing examples such as mutable variables."
   ]
  },
  {
   "cell_type": "markdown",
   "metadata": {},
   "source": [
    "# Functions\n",
    "\n",
    "We define functions using the `def` keyword, they can have any number of arugments and keyword-arguments. Keyword arguments are optional arguments that have a default value. We use the `return` keyword to return something."
   ]
  },
  {
   "cell_type": "code",
   "execution_count": 11,
   "metadata": {},
   "outputs": [
    {
     "name": "stdout",
     "output_type": "stream",
     "text": [
      "2\n",
      "9\n",
      "16\n"
     ]
    }
   ],
   "source": [
    "import numpy as np\n",
    "\n",
    "def roll_dice(n=1):\n",
    "    return sum(np.random.randint(1, 7, n))\n",
    "\n",
    "print(roll_dice())\n",
    "print(roll_dice(2))\n",
    "print(roll_dice(n=4))"
   ]
  },
  {
   "cell_type": "markdown",
   "metadata": {},
   "source": [
    "This functions rolls $n$ dice and returns the sum of the results. As we defined the argument as a keyword-argument, it defaults to 1 die if we do not specify anything. We can specify the number either by just giving it  as an argument, or by specifying the keyword."
   ]
  },
  {
   "cell_type": "markdown",
   "metadata": {},
   "source": [
    "## For Loops\n",
    "\n",
    "In Python, For-loops have the following syntax\n",
    "```Python\n",
    "for <element> in <iterable>:\n",
    "    <code block to be repeated for each element>\n",
    "    <code block to be repeated for each element>\n",
    "    <code block to be repeated for each element>\n",
    "```\n",
    "\n",
    "Here, we can name the element whatever we want, for counters it is normal to use `i`, `j`, and `k`. We can loop over any iterable object in Python, for example sequences such as lists and tuples. If you want to loop over a range of numbers, you can use the built-in range function:\n",
    "```\n",
    "for i in range(10):\n",
    "```\n",
    "Note that in Python3, the range is different from in Python2, in that it is a iterable `range`-object, and not a list, which gives it much better memory performance. If you want a list of integers, simply cast the `range`-object to a list: `list(range(10))`\n",
    "\n",
    "Two helpful commands to be used in lists are `continue`, which skips to the next iteration of the loop, and `break`, which breaks the remaining iterations."
   ]
  },
  {
   "cell_type": "markdown",
   "metadata": {},
   "source": [
    "Example: Using a for-loop to check whether a number is a prime"
   ]
  },
  {
   "cell_type": "code",
   "execution_count": 12,
   "metadata": {},
   "outputs": [],
   "source": [
    "def is_prime(n):\n",
    "    if n == 1:\n",
    "        return False\n",
    "    \n",
    "    for i in range(2, n):\n",
    "        if n % i == 0:\n",
    "            return False\n",
    "        \n",
    "    return True"
   ]
  },
  {
   "cell_type": "markdown",
   "metadata": {},
   "source": [
    "This function works because as soon as a number is returned, the function ends. So we first check for 1, because it is a bit special. Then we simply do *trial* divisions with each number in the range $[2, n)$. As the definition of a prime is an number that is only divisible by 1 or itself, if we find a divisor, we know the number cannot be a prime and return False. If the whole loop executes, we have not found a divisor, and the number is a prime. We check if the number is divisible by using modulo ("
   ]
  },
  {
   "cell_type": "code",
   "execution_count": 13,
   "metadata": {},
   "outputs": [
    {
     "name": "stdout",
     "output_type": "stream",
     "text": [
      " 1 is not prime\n",
      " 2 is prime\n",
      " 3 is prime\n",
      " 4 is not prime\n",
      " 5 is prime\n",
      " 6 is not prime\n",
      " 7 is prime\n",
      " 8 is not prime\n",
      " 9 is not prime\n",
      "10 is not prime\n",
      "11 is prime\n"
     ]
    }
   ],
   "source": [
    "for i in range(1, 12):\n",
    "    if is_prime(i):\n",
    "        print(\"{:2} is prime\".format(i))\n",
    "    else:\n",
    "        print(\"{:2} is not prime\".format(i))"
   ]
  },
  {
   "cell_type": "markdown",
   "metadata": {},
   "source": [
    "We can also use *list* comprehensions to quickly compile lists on single-lines using a for-loop syntax. Take the following example:"
   ]
  },
  {
   "cell_type": "code",
   "execution_count": 14,
   "metadata": {},
   "outputs": [],
   "source": [
    "primes = []\n",
    "for i in range(1, 13):\n",
    "    if is_prime(i):\n",
    "        primes.append(i)"
   ]
  },
  {
   "cell_type": "markdown",
   "metadata": {},
   "source": [
    "This can also be done with the List-comprehension"
   ]
  },
  {
   "cell_type": "code",
   "execution_count": 15,
   "metadata": {},
   "outputs": [],
   "source": [
    "primes = [i for i in range(1, 13) if is_prime(i)]"
   ]
  },
  {
   "cell_type": "markdown",
   "metadata": {},
   "source": [
    "Note that list-comprehensions are quite a lot faster than using a loop, and are considered very useful. Don't hestiate to use list comprehensions were applicable (and similarily dictionary comprehensions). We can now also find the non-primes:\n"
   ]
  },
  {
   "cell_type": "code",
   "execution_count": 16,
   "metadata": {},
   "outputs": [],
   "source": [
    "nonprimes = [i for i in range(1, 13) if i not in primes]"
   ]
  },
  {
   "cell_type": "code",
   "execution_count": 17,
   "metadata": {},
   "outputs": [
    {
     "name": "stdout",
     "output_type": "stream",
     "text": [
      "[2, 3, 5, 7, 11]\n",
      "[1, 4, 6, 8, 9, 10, 12]\n"
     ]
    }
   ],
   "source": [
    "print(primes)\n",
    "print(nonprimes)"
   ]
  },
  {
   "cell_type": "markdown",
   "metadata": {},
   "source": [
    "## While Loop\n",
    "\n",
    "While loops repeat a block of code as long as some condition is true. The syntax of a while loop in Python is as follows:\n",
    "```Python\n",
    "while <condition>:\n",
    "    <code block to be repeated>\n",
    "    <code block to be repeated>\n",
    "    <code block to be repeated>\n",
    "```\n",
    "The condition has to be some statement that can be evaluated to either True or False."
   ]
  },
  {
   "cell_type": "markdown",
   "metadata": {},
   "source": [
    "Assume we have a savings account with an annual interest of 3.5%. If we deposit $10000 to the account at the start of year 0. How many years would you need to wait before the money in the account has doubled?"
   ]
  },
  {
   "cell_type": "code",
   "execution_count": 18,
   "metadata": {},
   "outputs": [
    {
     "name": "stdout",
     "output_type": "stream",
     "text": [
      "You will need to wait 21 years, you'll have $20594 in your account\n"
     ]
    }
   ],
   "source": [
    "years = 0\n",
    "interest = 1.035\n",
    "money = 10000\n",
    "\n",
    "while money < 20000:\n",
    "    money *= interest\n",
    "    years += 1\n",
    "    \n",
    "print(\"You will need to wait {} years, you'll have ${:.0f} in your account\".format(years, money))"
   ]
  },
  {
   "cell_type": "markdown",
   "metadata": {},
   "source": [
    "## Plotting\n",
    "\n",
    "Plotting is a useful tool in Pyhton. Many packages exist for plotting, but the most popular one, and the one we will use in IN1910, is *matplotlib*, which is also part of the scipy stack. Matplotlib is easy to learn, but can become a bit messy to use if you want to control every fine detail of the figure. If you know matplotlib properly, you can make gorgeous figures for projects, publications and reports. For this it is helpful to see the [matplotlib website](https://matplotlib.org/gallery/index.html) which is full of examples and tutorials.\n",
    "\n",
    "For now, we simply cover simple plotting of functions. It is common to import `matplotlib.pyplot` as `plt`."
   ]
  },
  {
   "cell_type": "code",
   "execution_count": 19,
   "metadata": {},
   "outputs": [],
   "source": [
    "import matplotlib.pyplot as plt"
   ]
  },
  {
   "cell_type": "markdown",
   "metadata": {},
   "source": [
    "The `plt.plot` command takes a list of values on the $x$-axis and a list of values on the $y$-axis, and draws a line through them. As an example we use `np.linspace` and `np.sin` to define a sine-curve:"
   ]
  },
  {
   "cell_type": "code",
   "execution_count": 20,
   "metadata": {},
   "outputs": [
    {
     "data": {
      "image/png": "[encoded data removed]",
      "text/plain": [
       "<Figure size 432x288 with 1 Axes>"
      ]
     },
     "metadata": {},
     "output_type": "display_data"
    }
   ],
   "source": [
    "x = np.linspace(0, 2*pi, 11)\n",
    "y = np.sin(x)\n",
    "\n",
    "plt.plot(x, y)\n",
    "plt.xlabel('x')\n",
    "plt.ylabel('sin(x)')\n",
    "plt.show()"
   ]
  },
  {
   "cell_type": "markdown",
   "metadata": {},
   "source": [
    "The curve is choppy because we have such few points, which is more obvious if we redefine the linestyle:"
   ]
  },
  {
   "cell_type": "code",
   "execution_count": 21,
   "metadata": {},
   "outputs": [
    {
     "data": {
      "image/png": "[encoded data removed]",
      "text/plain": [
       "<Figure size 432x288 with 1 Axes>"
      ]
     },
     "metadata": {},
     "output_type": "display_data"
    }
   ],
   "source": [
    "plt.plot(x, y, 'o--')\n",
    "plt.xlabel('x')\n",
    "plt.ylabel('sin(x)')\n",
    "plt.show()"
   ]
  },
  {
   "cell_type": "markdown",
   "metadata": {},
   "source": [
    "To get a smoother curve, we need to add more points, this is as easy as adding more points to the `linspace` argument:"
   ]
  },
  {
   "cell_type": "code",
   "execution_count": 22,
   "metadata": {},
   "outputs": [
    {
     "data": {
      "image/png": "[encoded data removed]",
      "text/plain": [
       "<Figure size 432x288 with 1 Axes>"
      ]
     },
     "metadata": {},
     "output_type": "display_data"
    }
   ],
   "source": [
    "x = np.linspace(0, 4*pi, 1001)\n",
    "\n",
    "plt.plot(x, np.sin(x), label='Sin')\n",
    "plt.plot(x, np.cos(x), label='Cos')\n",
    "plt.xlabel('x')\n",
    "plt.legend()\n",
    "plt.show()"
   ]
  },
  {
   "cell_type": "markdown",
   "metadata": {},
   "source": [
    "Plotting mathematical functions is very fast with numpy and matplotlib, and is a useful tool for exploring behavior. Let us for example plot a dampned sine wave: $g(y) = e^{-y}\\sin(8y)$ for $y\\in[0, 4]$."
   ]
  },
  {
   "cell_type": "code",
   "execution_count": 23,
   "metadata": {},
   "outputs": [
    {
     "data": {
      "image/png": "[encoded data removed]",
      "text/plain": [
       "<Figure size 432x288 with 1 Axes>"
      ]
     },
     "metadata": {},
     "output_type": "display_data"
    }
   ],
   "source": [
    "y = np.linspace(0, 4, 1001)\n",
    "g = np.exp(-y)*np.sin(8*y) \n",
    "\n",
    "plt.plot(y, g)\n",
    "plt.plot(y, np.exp(-y), '--', color='gray')\n",
    "plt.plot(y, -np.exp(-y), '--', color='gray')\n",
    "plt.show()"
   ]
  },
  {
   "cell_type": "markdown",
   "metadata": {},
   "source": [
    "## Solving ODE's with Finite Differences\n",
    "\n",
    "Recall also that we can solve integrals and differential equations numerically. We only show a very simple example here, but you can read more about it in Langtangen.\n",
    "\n",
    "If we have a simple ODE, like an exponential decay:\n",
    "$$\\frac{{\\rm d}u}{{\\rm d}t} = -au(t),$$\n",
    "For a given time, $t_i$, we can approximate the derivative using the Forward Euler scheme, which gives us the differential equation\n",
    "$$\\frac{u_{i+1} - u_{i}}{\\Delta t} = -au_i.$$\n",
    "where $u_{i} = u(t_i)$ and $t_i = i\\Delta t$. And so we can turn our equation into\n",
    "$$u_{i+1} = (1 - a\\Delta t)u_{i}.$$\n",
    "\n",
    "We can then solve the equation using a for-loop. Altough we need some initial conditions and parameters, let us use $u_0 = 4$ and $a=0.5$. We use a time step of $\\Delta t = 10^{-3}$ and solve for $t \\in (0, 10)$."
   ]
  },
  {
   "cell_type": "code",
   "execution_count": 24,
   "metadata": {},
   "outputs": [
    {
     "data": {
      "image/png": "[encoded data removed]",
      "text/plain": [
       "<Figure size 432x288 with 1 Axes>"
      ]
     },
     "metadata": {},
     "output_type": "display_data"
    }
   ],
   "source": [
    "a = 0.5\n",
    "u0 = 4\n",
    "dt = 0.001\n",
    "T = 10\n",
    "\n",
    "t = np.arange(0, T, dt)\n",
    "u = np.zeros(len(t))\n",
    "u[0] = 4\n",
    "\n",
    "for i in range(len(u)-1):\n",
    "    u[i+1] = (1 - a*dt)*u[i] \n",
    "    \n",
    "plt.plot(t, u)\n",
    "plt.xlabel('time')\n",
    "plt.ylabel('u')\n",
    "plt.show()"
   ]
  }
 ],
 "metadata": {
  "kernelspec": {
   "display_name": "Python 3",
   "language": "python",
   "name": "python3"
  },
  "language_info": {
   "codemirror_mode": {
    "name": "ipython",
    "version": 3
   },
   "file_extension": ".py",
   "mimetype": "text/x-python",
   "name": "python",
   "nbconvert_exporter": "python",
   "pygments_lexer": "ipython3",
   "version": "3.6.5"
  }
 },
 "nbformat": 4,
 "nbformat_minor": 2
}
