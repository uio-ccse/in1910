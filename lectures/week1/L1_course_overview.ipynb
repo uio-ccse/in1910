{
 "cells": [
  {
   "cell_type": "markdown",
   "metadata": {},
   "source": [
    "# Lecture 1\n",
    "## Introduction to IN1910\n",
    "\n",
    "Welcome to [IN1910 – Programming with Scientific Applications](https://www.uio.no/studier/emner/matnat/ifi/IN1910/index-eng.html)!.\n",
    "\n",
    "This document covers practical information about the course, its motivation and its structure.\n",
    "\n",
    "This is a brand new course that will be given for the first time the fall semester of 2018. The course can be seen as a follow up to IN1900 and continues the the introduction into the world of scientific programming. We will focus on teaching you important tools and concepts, and the goal is for you to walk away from the course as a competent scientific programmer.\n"
   ]
  },
  {
   "cell_type": "markdown",
   "metadata": {},
   "source": [
    "### The motivation behind IN1910\n",
    "\n",
    "The paper [*Best Practices for Scientific Computing*](http://journals.plos.org/plosbiology/article?id=10.1371/journal.pbio.1001745) by Wilson, et al, discusses the need for better practicies in the field of scientific computing. They quote recent studies that show scientists typically use 30% or more of their time developing software, but that 90% or more are primarily self-taught. As a result, most are not properly trained in the use of good tools and practicies.\n",
    "\n",
    "A movement called [*Software Carpentry*](https://software-carpentry.org/) is trying to remedy the situation by giving workshops and sharing resources for training researchers in computing and programming. As the name implies, the goal is to give researchers a set of useful *tools* and the competence and confidence to use them properly.\n",
    "\n",
    "<img src=\"fig/software_carpentry.png\" width=200>\n",
    "\n",
    "IN1910 aims to do the same thing. We do not just want to teach you how to code up scientific applications, but we want to give you a set of important tools and practices to program in an efficient manner that leads to more reliable and maintainable code. We will therefore spend time during the course to cover tools such as version control and focus on testing and documenting code."
   ]
  },
  {
   "cell_type": "markdown",
   "metadata": {},
   "source": [
    "#### Best Practices\n",
    "\n",
    "The paper by Wilson et al goes through and identifies what they think are the most important aspects of scientific computing. Their best practices are outlined as 8 major points.\n",
    "\n",
    "1. Write programs for people, not computers\n",
    "2. Let the computer do the work\n",
    "3. Make incremental cbhanges\n",
    "4. Don't repeat yourself (or others)\n",
    "5. Plan for mistakes\n",
    "6. Optimize code only after it works correctly\n",
    "7. Document design and purpose, not mechanics\n",
    "8. Collaborate\n",
    "\n",
    "In IN1910, we will return to these practices and try to reflect on how to implement them in our workflow and code.\n",
    "\n"
   ]
  },
  {
   "cell_type": "markdown",
   "metadata": {},
   "source": [
    "## Languages in 1910\n",
    "\n",
    "In 1910 is a continuation of IN1900, and will primarily be using Python. However, we will also be introducing a second language: C++. \n",
    "\n",
    "Python is a modern, object-oriented programming language. It has a clear, readable syntax, making it easy to learn, and easy to write understandable, maintainable, and shareable code. It also has a good standard library and plenty of extensions for scientific computing. It is also open source. All of this points to Python being a good language for scientific computing. A language that is fairly comparable to Python for some scientific applications is Matlab, but we will also dive deeper into object-oriented programming and other concepts in computer science that are not that well covered by Matlab. Besides, Python has a syntax fairly similar to Matlab, and so learning Python well will equip you to handle Matlab at a later point. We opt to go for Python 3, hopefully you have already taken the move over to 3 yourself, but if you are used to 2.7, don't worry, the differences are minor.\n",
    "\n",
    "Note that we do expect students taking IN1900 to be fairly familiar with Python. If you are not, you should expect to put in more work during the first few weeks of the course. Here, Langtangen is a good resource to use.\n",
    "\n",
    "Why do we choose to also include C++, and not just stick to Python? First of all, learning a second language is very helpful on its own. As it helps you generalize programming concepts and not get to attached to a single way of writing code. C++ is a very popular language, and so the chances you will meet or use the language later is high. It is also low-level, compared to Python, which is high-level, and so they have different areas of use. Knowing C++ let's us write more efficient and faster code than Python, with drawbacks we will get back to later. Lastly, C++ is based on C, the most used programming language in the world, and many other languages are inspired heavily on C. Knowing C++ will therefore make using other languages a lot easier (C, Java, C#, objective-C, javascript, etc). Python on the other hand, has a syntax that is quite different from these, and so knowing *only* Python can be restrictive for working with code in other languages.\n",
    "\n",
    "The magazine IEEE Spectrum publishes an annual list of programming langues ranked by popularity. The [2018 list](https://spectrum.ieee.org/at-work/innovation/the-2018-top-programming-languages) was published 31st of July. The top ten programming langues (by popularity) are shown in the figure below\n",
    "<img src=\"fig/spectrum_ranking_2018.png\" width=400>\n",
    "The symbols indicate what people often use the languges for, with the globe meaning web, the cellphone mobile, the screen desktop and scientific applications, and the chip embedded applications.\n",
    "\n",
    "The spectrum ranking is just one of many rankings, and it doesn't necessarily mean that much. The main reason we bring it up is to point out that knowing Python and a bit of C++ will most likely be very useful if you continue doing *any* kind of programming in your future, be it scientific or other."
   ]
  },
  {
   "cell_type": "markdown",
   "metadata": {},
   "source": [
    "### Curriculum and Teaching Materials\n",
    "\n",
    "We do not operate with a single book in IN1910, as we are covering many different topics that are not well covered by any existing textbook. The curriculum is therefore defined by what is covered in the lectures. For each lecture, there will be accompying lecture notes covering that week's material. If you are not attending the lectures, you should read/work through the lecture notes. If you do attend lectures, it might be a good idea to skim through the lecture notes before any given lecture, or go through them at your own pace after a given lesson.\n",
    "\n",
    "In addition to the lecture notes, we will give references to external teaching materials that you can use to better learn the materials. These are meant as additional information to those who want it, or alternatives to those who might not like the style or tone of the lecture notes. Note that these secondary materials are just recommendations, and you can choose which of them to use or cover yourself. Most of the materials we recommend will be open source materials freely available online.\n",
    "\n",
    "As a good reference on Python for scientific programming, we recommend *A Primer on Scientific Programming with Python, Fifth Edition av Hans Petter Langtangen*, which many of you taking the course probably already have already. If you do not, you are not required to acquire it.\n",
    "\n",
    "<img src=\"fig/langtangen.jpg\" width=110>\n",
    "\n"
   ]
  },
  {
   "cell_type": "markdown",
   "metadata": {},
   "source": [
    "### Accessing Teaching Materials\n",
    "\n",
    "All teaching materials are shared on a git repository on the UiO Github server. You will need to log in with your UiO username and password. You will soon learn how to use Git repositories.\n",
    "* [https://github.uio.no/IN1910/IN1910](https://github.uio.no/IN1910/IN1910). \n",
    "\n",
    "The lecture notes are Jupyter notebooks. You can either download these through git to your own machine and run them through Jupyter, or you can use the UiO Jupyterhub server. Here you will also log in with your UiO username and password, and you can then navigate to IN1910. When you run Jupyter notebooks through Jupyterhub, you are running things on a UiO server, so this is a good solution for reading materials if you are on a different computer than your regular computer with everything installed.\n",
    "* [https://jupyterhub.uio.no/](https://jupyterhub.uio.no/)"
   ]
  },
  {
   "cell_type": "markdown",
   "metadata": {},
   "source": [
    "## Topics\n",
    "\n",
    "Each week consists of two lectures that will mostly be on the same topic. A rough outline of topics covered will be as follows:\n",
    "\n",
    "* Week 34 - Version Control with Git\n",
    "* Week 35 - Object Oriented Programming\n",
    "* Week 36 - Testing, documentation\n",
    "* Week 37 - Object Oriented Programming (only 1 lecture this week)\n",
    "* Week 38 - Object Oriented Programming (only 1 lecture this week)\n",
    "* Week 39 - C++\n",
    "* Week 40 - C++\n",
    "* Week 41 - No lectures (Midsemester exams)\n",
    "* Week 42 - Data structures and Algorithms\n",
    "* Week 43 - Data structures and Algorithms\n",
    "* Week 44 - Random number generators\n",
    "* Week 45 - Stochastic Simulation\n",
    "* Week 46 - Optimization\n",
    "* Week 47 - Summary and Final Project"
   ]
  },
  {
   "cell_type": "markdown",
   "metadata": {},
   "source": [
    "## Mandatory Work and Exam\n",
    "\n",
    "IN1910 is project based with a Pass/Fail grade. There will be two smaller projects during the semester, and a larger final project towards the end of november. You are encouraged to do the projects in pairs, more on this later. In addition to the project work we will have a short oral exam where you will present the work you did in the final project. To get a Passing grade you will need to pass all three projects and the oral exam. If you fail one of the projects, but have delivered some work, we will give you a chance to improve your project and submit again. Along with the project assignments you will get more information about what is required to pass.\n",
    "\n",
    "Please note that because all the projects are considered part of the basis of the course grade, you must apply for extensions on any mandatory work were required. You can do this directly to the administration at studieinfo@ifi.uio.no. Please do so before the deadline has expired if possible.\n",
    "\n",
    "##### Exam Dates\n",
    "\n",
    "Due to the number of students in the course, we will split oral exams into three dates\n",
    "* December 3rd (03.12.18)\n",
    "* December 4th (04.12.18)\n",
    "* December 10th (10.12.18)\n",
    "\n",
    "In early september we will send a questionaire out where we require you to rank the three dates by preference. A final exam plan will be given out in october at the latest. We will try to optimize the distribution of students to preference, but cannot guarantee you get your preferred date.\n",
    "\n",
    "##### Other assignments\n",
    "\n",
    "Programming is best learnt by doing, and during weeks where you do not have mandatory assignments, we will still give out assignments. You are strongly encouraged to do these assignments, but will not have to turn them in or have them graded.\n"
   ]
  },
  {
   "cell_type": "markdown",
   "metadata": {},
   "source": [
    "## What Software do you need?\n",
    "\n",
    "* Python 3.6 or newer with [SciPy stack](https://www.scipy.org/stackspec.html) (for example an [Anaconda Distribution](https://www.anaconda.com/download/#macos) distribution)\n",
    "* A text editor or IDE of your own choice\n",
    "* Git version control\n",
    "* Later in the semester: A C++ compiler\n",
    "* Nice to have: Jupyter Notebook for reading lecture notes (also comes with Anaconda)\n",
    "\n",
    "If you are having trouble installing any of this on your own machine, please contact us for help, and we will see what we can do. If you are having problems with Jupyter, lecture notes will also be given in .pdf-format, though these will not be interactive.\n",
    "\n",
    "\n"
   ]
  },
  {
   "cell_type": "markdown",
   "metadata": {},
   "source": [
    "### Feedback from Students\n",
    "\n",
    "IN1910 is a brand new course, and this is the first semester this course is offered. This means there might be aspects that do not work as well as intentended, and it is important we catch these. In addition there are probably many improvements that can be made, both for this and future semesters. Because of this, it is even more important that we get feedback from you, both good and bad.\n",
    "\n",
    "If you have any comments, thoughts, criticisms or suggestions, please do not hesitate to let us know! You can contact the lecturer directly, in person or by email (jonas@simula.no). You can also let your TA/gruppelærer know, so they can bring it along. For complaints of a serious nature, or if you want to remain anonymous, we recommend you contact the administration at IFI directly, or get in touch with one of the student unions:\n",
    "* [Fagutvalget ved Institutt for informatikk](https://www.mn.uio.no/ifi/livet-rundt-studiene/organisasjoner/fui.html)\n",
    "* [Matematisk Fagutvalg](https://www.mn.uio.no/math/livet-rundt-studiene/studentdemokrati/matematisk-fagutvalg/)\n",
    "\n",
    "In addition, we will conduct a mid-semester evaluation by questionaire. More information about this will be given out after the first project assignment is finished."
   ]
  }
 ],
 "metadata": {
  "kernelspec": {
   "display_name": "Python 3",
   "language": "python",
   "name": "python3"
  },
  "language_info": {
   "codemirror_mode": {
    "name": "ipython",
    "version": 3
   },
   "file_extension": ".py",
   "mimetype": "text/x-python",
   "name": "python",
   "nbconvert_exporter": "python",
   "pygments_lexer": "ipython3",
   "version": "3.6.5"
  }
 },
 "nbformat": 4,
 "nbformat_minor": 2
}
