{
 "cells": [
  {
   "cell_type": "markdown",
   "metadata": {},
   "source": [
    "# Lecture 4\n",
    "## Making classes in Python\n",
    "\n",
    "In this lecture we will look at more example of defining classes in Python. We also touch briefly on inheritance, which we will return to look more at later."
   ]
  },
  {
   "cell_type": "markdown",
   "metadata": {},
   "source": [
    "### A 3D vector class\n",
    "\n",
    "In the first part of this lecture, we will work on implementing a class for three dimensional vectors. We do this as an example for different types of special methods and behavior we can include."
   ]
  },
  {
   "cell_type": "markdown",
   "metadata": {},
   "source": [
    "#### The constructor (`__init__`)\n",
    "\n",
    "Recall that the constructor of the class is defined using the init special method (`__init__`). For a 3D vector, we need the three components of the vector. We call these x, y, z, assuming we are working with cartesian coordinates."
   ]
  },
  {
   "cell_type": "code",
   "execution_count": 1,
   "metadata": {},
   "outputs": [],
   "source": [
    "import numpy as np\n",
    "\n",
    "class Vector3D:\n",
    "    def __init__(self, x, y, z):\n",
    "        self.x = x\n",
    "        self.y = y\n",
    "        self.z = z"
   ]
  },
  {
   "cell_type": "markdown",
   "metadata": {},
   "source": [
    "##### Pretty printing\n",
    "\n",
    "Next we want to be able to print out vectors, so that we can check our results. We implement this using the string special method (`__str__`). If we were just implementing this in an editor, we would just keep editing our file. In the notebook, we don't want to repeat the whole class for each cell. Instead we just extend our existing class as follows:"
   ]
  },
  {
   "cell_type": "code",
   "execution_count": 2,
   "metadata": {},
   "outputs": [
    {
     "name": "stdout",
     "output_type": "stream",
     "text": [
      "(0, 4, -2)\n"
     ]
    }
   ],
   "source": [
    "class Vector3D(Vector3D):\n",
    "    def __str__(self):\n",
    "        return \"({:g}, {:g}, {:g})\".format(self.x, self.y, self.z)\n",
    "    \n",
    "u = Vector3D(0, 4, -2)\n",
    "print(u)"
   ]
  },
  {
   "cell_type": "markdown",
   "metadata": {},
   "source": [
    "Here, extending the class by writing `Vector3D(Vector3D)` works because of *inheritance*, as we will explain later.\n",
    "\n",
    "Our string special method works nicely, but if we print a list of vectors, the output won't be too nice, so we also add a representation method (`__repr__`)."
   ]
  },
  {
   "cell_type": "code",
   "execution_count": 3,
   "metadata": {},
   "outputs": [
    {
     "name": "stdout",
     "output_type": "stream",
     "text": [
      "[Vector3D(2, 0, 2), Vector3D(-1, 1, -1), Vector3D(1, 1, 1)]\n"
     ]
    }
   ],
   "source": [
    "class Vector3D(Vector3D):\n",
    "    def __repr__(self):\n",
    "        return \"{}({}, {}, {})\".format(self.__class__.__name__,\n",
    "                                       self.x, self.y, self.z)\n",
    "\n",
    "vectors = [Vector3D(2, 0, 2), Vector3D(-1, 1, -1), Vector3D(1, 1, 1)]\n",
    "print(vectors)"
   ]
  },
  {
   "cell_type": "markdown",
   "metadata": {},
   "source": [
    "Here we could have also just written out the name of the class explicitly: `return \"Vector3D({}, {}, {}).format(...)\"`, but this is unwise, because if we change the name of our class we break the `repr`, or if we make a subclass, it will also be broken for the subclass. So instead, we use `self.__class__.__name__`, as all classes know their own name."
   ]
  },
  {
   "cell_type": "markdown",
   "metadata": {},
   "source": [
    "### Arithmetic\n",
    "\n",
    "We want to be able to add or subtract our vector objects. We could do this by simply creating a `add` method, and write for example `u.add(v)`, but this isn't that elegant. Instead, we want to be able to just write `u + v`. When we write out a statement like that, we are using the *binary* operator `+`. When we write `a + b` for any objects `a` and `b`, Python calls the addition special method behind the scenes, so it turns into the call `a.__add__(b)`. \n",
    "\n",
    "The result of adding two 3D vectors together is a new 3D vector, so our `__add__` special method should return a new `Vector3D`-object. If this is confusing, imagine the following code snippet\n",
    "```Python\n",
    "u = Vector3D(2, 0, -2)\n",
    "v = Vector3D(2, 4, 2)\n",
    "w = u + v\n",
    "```\n",
    "In this case, adding `u` and `v` to define `w` shouldn't change the values of `u` and `v`, but should instead create a *new vector object* which we refer to as `w`. If this is the case, we need our addition to both create this new object (meaning we need to call the `Vector3D`-constructor) and return it, so that `w` knows what object to refer to."
   ]
  },
  {
   "cell_type": "code",
   "execution_count": 4,
   "metadata": {},
   "outputs": [
    {
     "name": "stdout",
     "output_type": "stream",
     "text": [
      "(2, 0, -2) + (2, 4, 2) = (4, 4, 0)\n"
     ]
    }
   ],
   "source": [
    "class Vector3D(Vector3D):\n",
    "    def __add__(self, other):\n",
    "        x = self.x + other.x\n",
    "        y = self.y + other.y\n",
    "        z = self.z + other.z\n",
    "        return Vector3D(x, y, z)\n",
    "\n",
    "u = Vector3D(2, 0, -2)\n",
    "v = Vector3D(2, 4, 2)\n",
    "w = u + v\n",
    "\n",
    "print(\"{} + {} = {}\".format(u, v, w))"
   ]
  },
  {
   "cell_type": "markdown",
   "metadata": {},
   "source": [
    "#### `self` and `other`\n",
    "\n",
    "We just defined our addition method with the statement `def __add__(self, other)`, which can be a bit confusing.  To better understand this, it can be helpful to first understand why there must be two arguments. This is because we are talking about *binary* addition, meaning two things are added together. When we write `a + b`, these two objects are being added, so `self` will refer to `a` and `other` will refer to `b`. This can become more clear if we realize what calls are being made behind the scenes:\n",
    "\n",
    "1. We write: `a + b`\n",
    "2. Which Python interprets as: `a.__add__(b)`\n",
    "3. Which in turn actually means: `Vector3D.__add__(a, b)`\n",
    "\n",
    "So in the method we have written, which has the signature `__add__(self, other)`, we see that `a` is the self, and `b` is the other.\n",
    "\n",
    "The use of `self` and `other` can be a tricky concept to wrap your head around, but it is fundamental to mastering classes, so it is very worth the time to take time to properly digest this material."
   ]
  },
  {
   "cell_type": "markdown",
   "metadata": {},
   "source": [
    "#### Vector-scalar addition\n",
    "\n",
    "We have added a method to add two vectors together, so we can write `u + v`. What happens if we try to add a vector and an integer `u + 1`?\n",
    "```Python\n",
    "print(u + 1)\n",
    "```\n",
    "We can an error: `AttributeError: 'int' object has no attribute 'x'`.\n",
    "\n",
    "This error happens because our `other`-object in this case is no longer a `Vector3D`-object, but an `int`. Here we get an `AttributeError` because we try to use `other.x`, but the integer has no `.x` attribute to access. In this case, we should actually be checking what type `other` and treat it differently depending on its type. We know `self` is a `Vector3D`, so we don't need to check this.\n",
    "\n",
    "Now, what behavior do we want if actually try to add an integer? We could either say we add the number to each component seperately, so:\n",
    "```\n",
    "if isinstance(other, (int, float)):\n",
    "    self.x += other\n",
    "    self.y += other\n",
    "    self.z += other\n",
    "```\n",
    "This is how a numpy array works for example. In our case, however, we want the `Vector3D` class to represent a mathematical vector, and for these, adding a vector and a scaler together doesn't make sense. Therefore, we throw an exception instead, we generalize this by throwing an error if we try to add anything other than another vector object."
   ]
  },
  {
   "cell_type": "code",
   "execution_count": 5,
   "metadata": {},
   "outputs": [
    {
     "name": "stdout",
     "output_type": "stream",
     "text": [
      "(2, 0, -2) + (2, 4, 2) = (4, 4, 0)\n",
      "(2, 0, -2) + 1 = cannot add vector and <class 'int'>\n"
     ]
    }
   ],
   "source": [
    "class Vector3D(Vector3D):\n",
    "    def __add__(self, other):\n",
    "        if isinstance(other, Vector3D):\n",
    "            x = self.x + other.x\n",
    "            y = self.y + other.y\n",
    "            z = self.z + other.z\n",
    "            return Vector3D(x, y, z)\n",
    "        \n",
    "        else:\n",
    "            raise TypeError(\"cannot add vector and {}\".format(type(other)))\n",
    "\n",
    "\n",
    "u = Vector3D(2, 0, -2)\n",
    "v = Vector3D(2, 4, 2)\n",
    "\n",
    "print(\"{} + {} = {}\".format(u, v, u + v))\n",
    "\n",
    "try:\n",
    "    print(\"{} + {} = {}\".format(u, 1, u + 1))\n",
    "except TypeError as e:\n",
    "    print(\"{} + {} = {}\".format(u, 1, e))"
   ]
  },
  {
   "cell_type": "markdown",
   "metadata": {},
   "source": [
    "#### Subtraction\n",
    "\n",
    "Extending our class to also handle subtraction of vectors is very similar to addition, we simply use the subtraction special method instead (`__sub__`)."
   ]
  },
  {
   "cell_type": "code",
   "execution_count": 6,
   "metadata": {},
   "outputs": [
    {
     "name": "stdout",
     "output_type": "stream",
     "text": [
      "(2, 0, -2) + (2, 4, 2) = (4, 4, 0)\n",
      "(2, 0, -2) - (2, 4, 2) = (0, -4, -4)\n",
      "(2, 0, -2) + 4 = cannot add vector and <class 'int'>\n"
     ]
    }
   ],
   "source": [
    "class Vector3D(Vector3D):\n",
    "    def __sub__(self, other):\n",
    "        if isinstance(other, Vector3D):\n",
    "            x = self.x - other.x\n",
    "            y = self.y - other.y\n",
    "            z = self.z - other.z\n",
    "            return Vector3D(x, y, z)\n",
    "        \n",
    "        else:\n",
    "            raise TypeError(\"cannot subtract vector and {}\".format(type(other)))\n",
    "            \n",
    "            \n",
    "u = Vector3D(2, 0, -2)\n",
    "v = Vector3D(2, 4, 2)\n",
    "\n",
    "print(\"{} + {} = {}\".format(u, v, u + v))\n",
    "print(\"{} - {} = {}\".format(u, v, u - v))\n",
    "\n",
    "try:\n",
    "    print(\"{} + {} = {}\".format(u, 4, u + 4))\n",
    "except TypeError as e:\n",
    "    print(\"{} + {} = {}\".format(u, 4, e))"
   ]
  },
  {
   "cell_type": "markdown",
   "metadata": {},
   "source": [
    "From mathematics, we know that `u - (-v)` is equivalent to `u + v`, but does Python understand this? You can try yourself and find that, no, it does not. This is because Python tried to resolve what we write inside the parenthensis *first*, which is `(-u)`. However, Python doesn't understand what the negative of a vector is. This is reflected in the error message you get:\n",
    "```\n",
    "TypeError: bad operand type for unary -: 'Vector3D'\n",
    "```\n",
    "Here \"unary -\" is reffering to the fact that `-u` is a *unary* operator, where as `u - v` is a *binary* operator. Unsurprisingly, there is a special method for the unary negative, it is called `__neg__`. Because it is unary, we define it without the \"other\" argument:"
   ]
  },
  {
   "cell_type": "code",
   "execution_count": 7,
   "metadata": {},
   "outputs": [
    {
     "name": "stdout",
     "output_type": "stream",
     "text": [
      "(2, 0, -2) - (-(2, 4, 2)) = (4, 4, 0)\n"
     ]
    }
   ],
   "source": [
    "class Vector3D(Vector3D):\n",
    "    def __neg__(self):\n",
    "        return Vector3D(-self.x, -self.y, -self.z)\n",
    "\n",
    "u = Vector3D(2, 0, -2)\n",
    "v = Vector3D(2, 4, 2)\n",
    "\n",
    "print(\"{} - (-{}) = {}\".format(u, v, u - (-v)))"
   ]
  },
  {
   "cell_type": "markdown",
   "metadata": {},
   "source": [
    "If we had implemented our `__neg__` first, it could have made our `__sub__` method easy to implement:"
   ]
  },
  {
   "cell_type": "code",
   "execution_count": 8,
   "metadata": {},
   "outputs": [
    {
     "name": "stdout",
     "output_type": "stream",
     "text": [
      "(2, 0, -2) - (2, 4, 2) = (0, -4, -4)\n"
     ]
    }
   ],
   "source": [
    "class Vector3D(Vector3D):\n",
    "    def __sub__(self, other):\n",
    "        if isinstance(other, Vector3D):\n",
    "            return self + (-other)\n",
    "        else:\n",
    "            raise TypeError(\"cannot subtract vector and {}\".format(type(other)))\n",
    "        \n",
    "u = Vector3D(2, 0, -2)\n",
    "v = Vector3D(2, 4, 2)\n",
    "\n",
    "print(\"{} - {} = {}\".format(u, v, u - v))"
   ]
  },
  {
   "cell_type": "markdown",
   "metadata": {},
   "source": [
    "#### Multiplication vectors\n",
    "\n",
    "We now want to add functionality for multiplying vectors. For 3D vectors, several type of multiplication exists. We want to be able to do both the dot product, and the cross product. Let us implement these as normal methods (not special methods) first.\n",
    "\n",
    "\n"
   ]
  },
  {
   "cell_type": "code",
   "execution_count": 9,
   "metadata": {},
   "outputs": [],
   "source": [
    "class Vector3D(Vector3D):\n",
    "    def dot(self, other):\n",
    "        return self.x*other.x + self.y*other.y + self.z*other.z\n",
    "    \n",
    "    def cross(self, other):\n",
    "        x = self.y*other.z - self.z*other.y\n",
    "        y = self.z*other.x - self.x*other.z\n",
    "        z = self.x*other.y - self.y*other.x\n",
    "        return Vector3D(x, y, z)"
   ]
  },
  {
   "cell_type": "markdown",
   "metadata": {},
   "source": [
    "If we also want to be able to use these multiplications as special methods, we can now simply call `dot` or `cross` in our special methods. Let us say we decide we want `u*v` to mean dot product, and `u@v` to mean cross product, then we simply add the two special methods (`__mul__` and `__matmul__`) as follows:"
   ]
  },
  {
   "cell_type": "code",
   "execution_count": 10,
   "metadata": {},
   "outputs": [],
   "source": [
    "class Vector3D(Vector3D):\n",
    "    def __mul__(self, other):\n",
    "        \"\"\"Interpret u*v to be the dot product\"\"\"\n",
    "        return self.dot(other)\n",
    "    \n",
    "    def __matmul__(self, other):\n",
    "        \"\"\"Interpret u@v as cross product\"\"\"\n",
    "        return self.cross(other)"
   ]
  },
  {
   "cell_type": "code",
   "execution_count": 11,
   "metadata": {},
   "outputs": [
    {
     "name": "stdout",
     "output_type": "stream",
     "text": [
      "-3\n",
      "(-2, -2, 5)\n"
     ]
    }
   ],
   "source": [
    "u = Vector3D(1, -1, 0)\n",
    "v = Vector3D(1, 4, 2)\n",
    "\n",
    "print(u*v)\n",
    "print(u@v)"
   ]
  },
  {
   "cell_type": "markdown",
   "metadata": {},
   "source": [
    "We can now also add a method for checking if two vectors are perpendicular, we do this by checking if $u\\cdot v = 0$."
   ]
  },
  {
   "cell_type": "code",
   "execution_count": 12,
   "metadata": {},
   "outputs": [
    {
     "name": "stdout",
     "output_type": "stream",
     "text": [
      "False\n"
     ]
    }
   ],
   "source": [
    "class Vector3D(Vector3D):\n",
    "    def perpendicular(self, other):\n",
    "        return abs(self*other) < 1e-9\n",
    "\n",
    "u = Vector3D(1, -1, 0)\n",
    "v = Vector3D(1, 4, 2)\n",
    "print(u.perpendicular(v))"
   ]
  },
  {
   "cell_type": "markdown",
   "metadata": {},
   "source": [
    "And we know that if $w = u \\times v$, then $w \\perp u$ and $w \\perp v$. Let us check:"
   ]
  },
  {
   "cell_type": "code",
   "execution_count": 13,
   "metadata": {},
   "outputs": [
    {
     "name": "stdout",
     "output_type": "stream",
     "text": [
      "True\n",
      "True\n"
     ]
    }
   ],
   "source": [
    "w = u@v\n",
    "print(w.perpendicular(u))\n",
    "print(w.perpendicular(v))"
   ]
  },
  {
   "cell_type": "markdown",
   "metadata": {},
   "source": [
    "#### Scalar multiplication\n",
    "\n",
    "We can also multiply vectors by scalars, which is equivalent to multiplying each component by the scalar seperately. We want `u*3` or `3*u` to be how this is done, so we rewrite our `__mul__`-method to do different things depending on the types. This is known as *overloading* an operator, in this case we overload `*` to mean either scalar or dot product, depending on context."
   ]
  },
  {
   "cell_type": "code",
   "execution_count": 14,
   "metadata": {},
   "outputs": [
    {
     "name": "stdout",
     "output_type": "stream",
     "text": [
      "-3\n",
      "(3, -3, 0)\n"
     ]
    }
   ],
   "source": [
    "class Vector3D(Vector3D):\n",
    "    def __mul__(self, other):\n",
    "        if isinstance(other, Vector3D):\n",
    "            return self.dot(other)\n",
    "        elif isinstance(other, (int, float)):\n",
    "            return Vector3D(self.x*other, self.y*other, self.z*other)\n",
    "        else:\n",
    "            raise TypeError(\"cannot multiply vector and {}\".format(type(other)))\n",
    "            \n",
    "u = Vector3D(1, -1, 0)\n",
    "v = Vector3D(1, 4, 2)\n",
    "\n",
    "print(u*v)\n",
    "print(u*3)"
   ]
  },
  {
   "cell_type": "markdown",
   "metadata": {},
   "source": [
    "So we see that `u*v` is now the dot product of two vectors, and `u*3` is the scalar multiplication. However, what about if we do:\n",
    "```Python\n",
    "3*u\n",
    "```\n",
    "This leads to an error:\n",
    "```\n",
    "TypeError: unsupported operand type(s) for *: 'int' and 'Vector3D'\n",
    "```\n",
    "This happens because `3*u` is interpreted behind the scenes as `3.__mul__(u)`, and so it is the multiplication special method of the `int` class that is called! Now, we have a work around, we can simply always write the vector first. However, this isn't that nice, because `3*u` is closer to mathematical convention than writing the vector first. We also want to give our user flexibility. To fix this, we should add a new special method called `__rmul__` (for right multiplication). This method is called if the first normal call of `mul` throws a TypeError. So in this case, we write `3*u`, and Python tries to call `3.__mul__(u)`. This doesn't work, so instead it calls `u.__rmul__(3)`.\n"
   ]
  },
  {
   "cell_type": "code",
   "execution_count": 15,
   "metadata": {},
   "outputs": [
    {
     "name": "stdout",
     "output_type": "stream",
     "text": [
      "(8, -12, 4)\n"
     ]
    }
   ],
   "source": [
    "class Vector3D(Vector3D):\n",
    "    def __rmul__(self, other):\n",
    "        return self*other\n",
    "    \n",
    "u = Vector3D(4, -6, 2)\n",
    "print(2*u)"
   ]
  },
  {
   "cell_type": "markdown",
   "metadata": {},
   "source": [
    "This brings up an important point about operators in programmering. While some operators are generally considered commutative in mathematics in math, meaning $a+b = b+a$, we see that this is not the case in Python. We could for example add different function in the `__add__`-method and in the `__radd__` method, and then `a+b` and `b+a` would behave differently. In fact, you might already know several examples of this, for example adding lists:"
   ]
  },
  {
   "cell_type": "code",
   "execution_count": 16,
   "metadata": {},
   "outputs": [
    {
     "name": "stdout",
     "output_type": "stream",
     "text": [
      "[1, 2, 3, 4, 5, 6]\n",
      "[4, 5, 6, 1, 2, 3]\n"
     ]
    }
   ],
   "source": [
    "a = [1, 2, 3]\n",
    "b = [4, 5, 6]\n",
    "\n",
    "print(a+b)\n",
    "print(b+a)"
   ]
  },
  {
   "cell_type": "markdown",
   "metadata": {},
   "source": [
    "#### Length and unit vectors\n",
    "\n",
    "Often we are interested in the length of a vector, or we want a unit vector with the same orientation as a given vector, let us add this as well.\n",
    "\n",
    "In Python there is a length special method (`__len__`), that is called by Python when we write `len(u)`. However, this method has to return an integer, as it is mainly meant to find the number of elements in a container, like a list. We therefore ignore this special method and instead implement the length as a property."
   ]
  },
  {
   "cell_type": "code",
   "execution_count": 17,
   "metadata": {},
   "outputs": [
    {
     "name": "stdout",
     "output_type": "stream",
     "text": [
      "(2, -2, 1) 3.0\n",
      "(0.666667, -0.666667, 0.333333) 1.0\n"
     ]
    }
   ],
   "source": [
    "class Vector3D(Vector3D):\n",
    "    @property\n",
    "    def length(self):\n",
    "        return np.sqrt(self*self)\n",
    "    \n",
    "    @length.setter\n",
    "    def length(self, new_length):\n",
    "        scale = new_length/self.length\n",
    "        self.x *= scale\n",
    "        self.y *= scale\n",
    "        self.z *= scale\n",
    "        \n",
    "u = Vector3D(2, -2, 1)\n",
    "print(u, u.length)\n",
    "\n",
    "u.length = 1\n",
    "print(u, u.length)"
   ]
  },
  {
   "cell_type": "markdown",
   "metadata": {},
   "source": [
    "We now want to create a metho `unit` that returns a unit vector of our given vector. So that we can do\n",
    "```\n",
    "u = Vector3D(2, -2, 1)\n",
    "w = u.unit()\n",
    "```\n",
    "Here we intend the method to return a new object, of unit length, and that it shouldn't change the original object. To write this function we can first *copy* the vector, and then change the length of the copied vector:"
   ]
  },
  {
   "cell_type": "code",
   "execution_count": 18,
   "metadata": {},
   "outputs": [
    {
     "name": "stdout",
     "output_type": "stream",
     "text": [
      "(2, -2, 1)\n",
      "(0.666667, -0.666667, 0.333333)\n",
      "False\n"
     ]
    }
   ],
   "source": [
    "class Vector3D(Vector3D):\n",
    "    def unit(self):\n",
    "        new_vector = Vector3D(self.x, self.y, self.z)\n",
    "        new_vector.length = 1\n",
    "        return new_vector\n",
    "\n",
    "u = Vector3D(2, -2, 1)\n",
    "w = u.unit()\n",
    "print(u)\n",
    "print(w)\n",
    "print(u is w)"
   ]
  },
  {
   "cell_type": "markdown",
   "metadata": {},
   "source": [
    "Writing `u is w` checks wether `u` and `w` are the same object, and we get false, as expected. In this case, making a copy was fairly easy, however, for larger, more complex objects, it can be some work. An alternative then is to use `copy.deepcopy`, which generates a deep copy of an object (`copy.copy` generates a shallow copy). "
   ]
  },
  {
   "cell_type": "markdown",
   "metadata": {},
   "source": [
    "#### Other Special methods\n",
    "\n",
    "Here we have shown different special methods, but there are plenty left to cover. Virtually any possible behavior of an object can be decided through good use of special methods. For a more detailed walkthrough, see [this guide](http://www.diveintopython3.net/special-method-names.html).\n",
    "\n",
    "Here are some that might be of special interest:\n",
    "* `__eq__`, for defining when two objects should be considered equal\n",
    "* We can also implement `lt`, `le`, `gt`, `ge`, `ne` for $\\lt, \\le, \\gt, \\ge, \\ne$. Implementing all of these is called *rich comparisons*, and automatically makes our objects sortable with `sort()`\n",
    "* `__bool__` defines what `if x:` means for our object\n",
    "* `__abs__`, defines what `abs(x)` means\n",
    "* `__getitem__` and `__setitem__` can be used to make our object indexable: `x[0]`"
   ]
  },
  {
   "cell_type": "markdown",
   "metadata": {},
   "source": [
    "### Short introduction to inheritance\n",
    "\n",
    "We will cover inheritance more in detail next week, but for now, let's just show some simple examples. We can let one class *inherit* from another. When we do this, the daughter class gets all functionality, i.e., all attributes, of the parent class. The daughter class is also known as the subclass, and the parent class the superclass. We can also implement new methods for the daughter class, or we can overwrite existing classes. Because of this, making subclasses is a way to specialize a class, while the superclass is a more *general* case.\n",
    "\n",
    "Let us look at a somewhat silly example: Pokémon Go. If you've played the game, this is hopefully easy to follow, if you haven't, don't worry to much about the specific calculations, but try to focus more on the big picture code."
   ]
  },
  {
   "cell_type": "markdown",
   "metadata": {},
   "source": [
    "#### Pokémon Go\n",
    "\n",
    "In the game Pokémon Go, players catch a bunch of different kinds of Pokémons. Each pokemon caught has different stats, and players want to catch pokemon with good stats. When the game generates a new pokemon, it must also find its stats. And this is what we will write code to do now.\n",
    "\n",
    "The stats of a specific pokemon is dependent on its species, because each species has specific base stats, in addition each individual pokemon caught has a randomized bonus to its stat, called the *individual value*. These individual values are random numbers between 0 and 15 for all pokemon, regardless of species.\n",
    "\n",
    "Because some properties vary by species, and some do not, we want to use inheritance. We now want to create a `Pokemon` superclass that has all functionality that is general to all `Pokemon`, and then we can implement specific species as subclasses afterwards."
   ]
  },
  {
   "cell_type": "markdown",
   "metadata": {},
   "source": [
    "We now make the `Pokemon` class. Each time a new pokemon is generated, we must draw its individual values randomly. There are three seperate stats: `ATK`, `DEF` and `STA`. We implement these as properties."
   ]
  },
  {
   "cell_type": "code",
   "execution_count": 19,
   "metadata": {},
   "outputs": [],
   "source": [
    "import numpy as np\n",
    "\n",
    "class Pokemon:\n",
    "    def __init__(self):\n",
    "        self.IV_ATK = np.random.randint(16)\n",
    "        self.IV_STA = np.random.randint(16)\n",
    "        self.IV_DEF = np.random.randint(16)\n",
    "\n",
    "    @property\n",
    "    def ATK(self):\n",
    "        return self.BASE_ATK + self.IV_ATK\n",
    "    \n",
    "    @property\n",
    "    def DEF(self):\n",
    "        return self.BASE_DEF + self.IV_DEF\n",
    "    \n",
    "    @property\n",
    "    def STA(self):\n",
    "        return self.BASE_STA + self.IV_STA\n",
    "    \n",
    "    def __str__(self):\n",
    "        return \"{}({}, {}, {})\".format(self.__class__.__name__,\n",
    "                                       self.ATK, self.DEF, self.STA)"
   ]
  },
  {
   "cell_type": "markdown",
   "metadata": {},
   "source": [
    "We now have a class `Pokemon`, but we cannot really use it, because if we try to access any of the three stat properties we get an error, as the base stats are not defined. This is not a bug, its on purpose. We do not want to use the general superclass, as all pokemon in the actual game has a specific species. We state this by saying the `Pokemon` class is an *abstract* class.\n",
    "\n",
    "Now, let us implement a few specific Pokemon types. Lets start with the most iconic one:"
   ]
  },
  {
   "cell_type": "code",
   "execution_count": 20,
   "metadata": {},
   "outputs": [],
   "source": [
    "class Pikachu(Pokemon):\n",
    "    BASE_ATK = 112\n",
    "    BASE_DEF = 101\n",
    "    BASE_STA = 70\n",
    "    \n",
    "class Charizard(Pokemon):\n",
    "    BASE_ATK = 223\n",
    "    BASE_DEF = 176\n",
    "    BASE_STA = 156"
   ]
  },
  {
   "cell_type": "markdown",
   "metadata": {},
   "source": [
    "Here we write `Pikachu(Pokemon)`, this syntax means the class is inheriting from the class within the parenthenses and becomes a subclass. We define the base stats as *class attributes* because they are the same for all pikachus, more on class attributes next week.\n",
    "\n",
    "Now we have very easily made two distinct species of Pokemon, without having to reimplement their general behavior. Inheritance has simplified our overall code considerably."
   ]
  },
  {
   "cell_type": "code",
   "execution_count": 21,
   "metadata": {},
   "outputs": [
    {
     "name": "stdout",
     "output_type": "stream",
     "text": [
      "Pikachu(120, 105, 72)\n",
      "Pikachu(114, 114, 72)\n",
      "Pikachu(116, 109, 83)\n",
      "Pikachu(122, 101, 74)\n",
      "Pikachu(127, 106, 73)\n",
      "\n",
      "Charizard(229, 181, 168)\n",
      "Charizard(223, 190, 160)\n",
      "Charizard(226, 182, 158)\n",
      "Charizard(230, 181, 165)\n",
      "Charizard(226, 185, 162)\n"
     ]
    }
   ],
   "source": [
    "for i in range(5):\n",
    "    pkmn = Pikachu()\n",
    "    print(pkmn)\n",
    "\n",
    "print()\n",
    "\n",
    "for i in range(5):\n",
    "    pkmn = Charizard()\n",
    "    print(pkmn)"
   ]
  },
  {
   "cell_type": "markdown",
   "metadata": {},
   "source": [
    "That was it for this example. The point was to illustrate how the goal of inheritance is to put all the general behavior in the superclass, and then only implement the *specifics* in the subclasses to specialize them.\n",
    "\n",
    "If you are interested in Pokemon Go, you can now extend the Pokemon class to for example calculate the CP, and so on."
   ]
  }
 ],
 "metadata": {
  "kernelspec": {
   "display_name": "Python 3",
   "language": "python",
   "name": "python3"
  },
  "language_info": {
   "codemirror_mode": {
    "name": "ipython",
    "version": 3
   },
   "file_extension": ".py",
   "mimetype": "text/x-python",
   "name": "python",
   "nbconvert_exporter": "python",
   "pygments_lexer": "ipython3",
   "version": "3.6.5"
  }
 },
 "nbformat": 4,
 "nbformat_minor": 2
}
