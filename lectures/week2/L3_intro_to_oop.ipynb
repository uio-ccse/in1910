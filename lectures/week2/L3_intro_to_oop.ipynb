{
 "cells": [
  {
   "cell_type": "markdown",
   "metadata": {},
   "source": [
    "# Lecture 3\n",
    "## Introduction to Object-Oriented Programming\n",
    "\n",
    "In this lecture we will start looking at object-oriented programming (OOP). This is one of the major components of IN1910. In this lecture we will start to look at what OOP is, and how to program object-oriented in Python. In later lectures we will cover some more theory of object-oriented programming and also touch on it in C++."
   ]
  },
  {
   "cell_type": "markdown",
   "metadata": {},
   "source": [
    "#### Other references\n",
    "\n",
    "Object-oriented programming in Python is fairly well covered by *Langtangen*. Especially so in:\n",
    "* **Chapter 7: Introduction to Classes** Gives a good introduction to defining classes and Python syntax.\n",
    "* **Chapter 9: Object-Oriented Programming** Gives a better overview of theory and gives more technical examples.\n",
    "\n",
    "If you want a different introduction to OOP in Python, these two lectures from MIT Open courseware might be a good place to start\n",
    "* [Lecture 8: Object-Oriented Programming](https://youtu.be/-DP1i2ZU9gk)\n",
    "* [Lecture 9: Python Classes and Inheritance](https://www.youtube.com/watch?v=FlGjISF3l78)"
   ]
  },
  {
   "cell_type": "markdown",
   "metadata": {},
   "source": [
    "### What is Object-Oriented Programming?\n",
    "\n",
    "Object-oriented programming (OOP for short), is a [*programming paradigm*](https://en.wikipedia.org/wiki/Programming_paradigm). Put simply, a paradigm is a way to think about, organize, and write code. Paradigms are used to classify and describe languages and programming styles. Many other paradigms exists, and you might have heard of some of them. Some examples are: procedural programming, functional programming, imperative programming, and symbolic programming. A programming language or piece of software doesn't necessarily belong to a single paradigm, and there aren't hard lines between the different paradigm either.\n",
    "\n",
    "Object-oriented programming is a way of solving problems, or building software, by defining data as *objects*, and specifying how those objects behave and interact. It is quite a popular way of developing software, because when done correctly it leads to code that is easy to understand, use and extend. \n",
    "\n",
    "##### The origins of OOP\n",
    "\n",
    "Object-oriented programming was invented in Norway by Ole-Johan Dahl and Kristen Nygaard in 1967, they called their new language, the first object-oriented language, *Simula*. While Simula was revolutionary and historically important language, it didn't see widespread adoption. Inspired by Simula, the language *Smalltalk* came on the scene in 1972 and saw a wider use, pushing the use of OOP. Smalltalk still sees use today, mainly as a means of teaching OOP and introductory programming. In 1983 *C++* arrived on the scene, and can be described as the first \"industrial\" object-oriented language. C++ was invented by Bjarne Stroustrup. He thought Simula had some nice features for large software development, but considered it to be to slow to be practical. He therefore started developing *\"C with classes\"*, which would eventually become C++.\n",
    "\n",
    "Most popular modern computer languages are *multi-paradigm*, meaning they support multiple possible paradigms. Some popular modern languages that support object-orientation are Python, Java, C++, C#, PHP, and Ruby."
   ]
  },
  {
   "cell_type": "markdown",
   "metadata": {},
   "source": [
    "<img src=\"fig/oop_drake_meme.png\" width=300>\n",
    "<center>**Figure:** You might have thought the ostehøvel was the greatest Norwegian invention, but Simula is where it's at.</center>"
   ]
  },
  {
   "cell_type": "markdown",
   "metadata": {},
   "source": [
    "#### What are objects?\n",
    "\n",
    "In Python, all variables are *objects*. Each object is of a given *type* (string, list, dictionary, etc) and it has some data stored in it. In addition, the objects has some defined behavior for how we interact with it, and how it interacts with other objects. We can for example append new elements to a list, or add lists together. \n",
    "\n",
    "One of of the reasons OOP is so intuitive is that it mirrors real life. To make sense of the world around us when we think or talk we tend to divide everything into specific conecepts or *objects*. Cars are objects, buildings, people are objects too in the software sense. It isn't only physical things that are objects either, we split time into hours, days, and years. And these are objects too. We can think of a \"job\" as a object. In this sense, an object is a data abstraction that attempts to capture some important property or feature.\n",
    "\n",
    "Everything in Python are objects, so when you are programming in Python, you are defining and using objects all the time. Does this mean you are programming object-oriented? Not necessarily. As we mentioned in the introduction the important thing is *thinking* and *solving problems* in an object-oriented manner. Meaning to do OOP properly one should ask what kind of objects are best for organizing a program and solving problems. Probably the most important task of programming object-oriented is therefore to define new data types, and defining how objects of that type should be represented and interact.\n",
    "\n",
    "##### Example: A contact list\n",
    "\n",
    "Think about the contact list on your phone. For each contact, you can store information of different types: name, different phone numbers, emails, etc. Some contacts you have many pieces of information about, some you only have a single piece of information.\n",
    "\n",
    "Let us say we want to implement such a contact list for a new phone system we are making. We might start thinking how to solve this problem. It makes sense to think of each individual contact as an individual *object*. Each piece of information belongs to a given contact, so it should be part of that object in the code. \n",
    "\n",
    "To begin with, we only want to store information about each contact, and so dictionaries would be a natural choice for this. We can use key-value pairs to store the information we want, and ignore the pieces of information we don't want. Other parts of the software system can then go in and access information from the contact dictionary as needed"
   ]
  },
  {
   "cell_type": "code",
   "execution_count": 1,
   "metadata": {},
   "outputs": [
    {
     "name": "stdout",
     "output_type": "stream",
     "text": [
      "lisa@python.org\n"
     ]
    }
   ],
   "source": [
    "contact = {\"name\": \"Lisa\",\n",
    "           \"email\": \"lisa@python.org\",\n",
    "           \"mobile_number\": \"767828292\"}\n",
    "\n",
    "print(contact[\"email\"])"
   ]
  },
  {
   "cell_type": "markdown",
   "metadata": {},
   "source": [
    "However, our dictionary can only store information on the contact, we cannot add new functionality. A more general way to do this would instead be to define a custom Contact-*class*. Classes are way to define new data types. That way we can create variables that are of type *contact*, instead of dictionary. The upside is that we  can choose exactly how our contact datatype should behave."
   ]
  },
  {
   "cell_type": "code",
   "execution_count": 2,
   "metadata": {},
   "outputs": [],
   "source": [
    "class Contact:\n",
    "    def __init__(self, name, email=None, cellphone=None):\n",
    "        self.name = name\n",
    "        self.email = email\n",
    "        self.cellphone = cellphone"
   ]
  },
  {
   "cell_type": "markdown",
   "metadata": {},
   "source": [
    "With this class defined, we can now create new contact object as follows\n"
   ]
  },
  {
   "cell_type": "code",
   "execution_count": 3,
   "metadata": {},
   "outputs": [
    {
     "name": "stdout",
     "output_type": "stream",
     "text": [
      "lisa@python.org\n"
     ]
    }
   ],
   "source": [
    "contact = Contact(\"Lisa\", email=\"lisa@python.org\", cellphone=\"767828292\")\n",
    "print(contact.email)"
   ]
  },
  {
   "cell_type": "markdown",
   "metadata": {},
   "source": [
    "Our contact object is no longer a dictionary, but a `Contact`-object, a new data type we defined ourself. We can check this by writing out the type:"
   ]
  },
  {
   "cell_type": "code",
   "execution_count": 4,
   "metadata": {},
   "outputs": [
    {
     "name": "stdout",
     "output_type": "stream",
     "text": [
      "<class '__main__.Contact'>\n"
     ]
    }
   ],
   "source": [
    "print(type(contact))"
   ]
  },
  {
   "cell_type": "markdown",
   "metadata": {},
   "source": [
    "So far we have only added the same information as the dictionary, but we could now go ahead and change how this object behaves. We could for example add a method that starts a new call to the person, so that we could do `contact.initiate_call()`, or a button to start an email to the person, and so on."
   ]
  },
  {
   "cell_type": "markdown",
   "metadata": {},
   "source": [
    "### Attributes, Fields, Methods\n",
    "\n",
    "Classes are custom data types, and are extremely central to object-oriented programming. When you are developing object-oriented, most of your development will go into defining classes and how they interact.\n",
    "\n",
    "When defining a new class, you need to specify what data an object of that type should contain, and what functionality it has. We call these the *attributes* of the class/object, and these can be split into two groupings:\n",
    "* fields are pieces of data stored in the object\n",
    "* methods are functions we can call\n",
    "\n",
    "#### Class vs Instance\n",
    "\n",
    "When we define a class, we are defining a new data type. To actually use it, we have to define a new object of that type, we call this an *instance* of the class. In our contact-list example, the `Contact` class is the general class we defined, then we can implement specific instances of the class, one for \"Lisa\", one for \"Frank\" and so on. The class is thus the abstract *concept* of a contact, and objects are the specific cases of that type. A different example: A Nissan leaf is a given type of car, and can be represented as a class. A specific car with the licensce plate \"EM93277\" (courtesy of random.org) is an *instance* of the Nissan leaf class. The specific car is an object of the *type* Nissan leaf. In this sense, the class is like the blue-print, it specifies how objects of that type should be built.\n",
    "\n",
    "#### Naming Conventions\n",
    "\n",
    "According to the [PEP8](https://www.python.org/dev/peps/pep-0008/?#class-names) style-guide (more on this next week), class names should use the CapWords convention (also known as CamelCase). This means every word in the class name should be capitalized, and the words should **not** be separated by underscores.\n",
    "\n",
    "Some examples: `Person`, `Polynomial`, `Vector3D`, `BankAccount`, `FileReader`.\n",
    "\n",
    "Specific instances of a class however, should always be lowercase. So when we define a variable of a given class, we would write for example:\n",
    "```\n",
    "u = Vector3D()\n",
    "poly = Polynomial()\n",
    "acc9302100 = BankAccount()\n",
    "```\n",
    "You should be strict about this rule, as it makes it much easier to differentiate the *classes* themselves (the general datatype) from instances of that class (the specific objects) in your code."
   ]
  },
  {
   "cell_type": "markdown",
   "metadata": {},
   "source": [
    "#### Example: A deck of cards\n",
    "\n",
    "Time for another example. Let us say we are implementing some card games. Now, we can easily represent a deck of cards using lists of strings in Python, no problem. However, for most card games, we need to use the exact same operations: get a new deck, shuffle the deck, draw cards, etc. It would be useful to implement the code to do this one place, and then just use that functionality each time we implement a new card game.\n",
    "\n",
    "We do this by implementing a `Deck` class. After having implemented our class, our game code itself will be much simpler, because we can now simply call `deck.shuffle()` or `deck.draw(5)` and so on. This adds a layer of abstraction to our code, and hides away the ugly implementation details \"behind the scenes\". This is called *encapsulation*, and is one of the motivations for using OOP. We can say we hide the implementation, but expose an easy-to-use and easy-to-understand *interface* we, or others, can use to achieve what we want."
   ]
  },
  {
   "cell_type": "code",
   "execution_count": 5,
   "metadata": {},
   "outputs": [],
   "source": [
    "import random\n",
    "\n",
    "class Deck(object):\n",
    "    def __init__(self):\n",
    "        self.cards = []\n",
    "        for s in ('D', 'H', 'C', 'S'):\n",
    "            for v in range(1, 14):\n",
    "                self.cards.append((s,v))\n",
    "    \n",
    "    def shuffle(self):\n",
    "        random.shuffle(self.cards)\n",
    "    \n",
    "    def draw(self, n=1):\n",
    "        return [self.cards.pop() for _ in range(n)]        \n",
    "    \n",
    "    def shuffle_into_deck(self, cards):\n",
    "        self.cards.extend(cards)\n",
    "        self.shuffle()"
   ]
  },
  {
   "cell_type": "markdown",
   "metadata": {},
   "source": [
    "Here we implement a class that has four methods. The first method is the constructor (called `__init__`, we explain why later), this is run everytime we create a new object of the class. In this case we initialize a deck of cards by adding all the cards in the deck using a double-loop. We also add a `shuffle` method that shuffles the deck, a `draw` method that draws $n$ cards from the deck, and a `shuffle_into_deck` for when we want to shuffle cards back into the deck. These are just simple examples of functionality that makes sense for a deck of cards, and we could add plenty more."
   ]
  },
  {
   "cell_type": "markdown",
   "metadata": {},
   "source": [
    "Once we have taken the time to build the `Deck`-class, we can easily create decks of cards, and use them, without having to think too much about the underlying details of the implementation. Implementing a class therefore represents adding a new layer of abstraction to our code."
   ]
  },
  {
   "cell_type": "code",
   "execution_count": 6,
   "metadata": {},
   "outputs": [
    {
     "name": "stdout",
     "output_type": "stream",
     "text": [
      "[('H', 6), ('S', 4), ('S', 9), ('C', 12), ('H', 3)]\n"
     ]
    }
   ],
   "source": [
    "deck = Deck()\n",
    "deck.shuffle()\n",
    "\n",
    "hand = deck.draw(5)\n",
    "print(hand)"
   ]
  },
  {
   "cell_type": "markdown",
   "metadata": {},
   "source": [
    "#### The use of `self`\n",
    "\n",
    "In our class examples so far, we have simply used the `self`-syntax without explaining it. It is a normal point of confusion for those learning Python, and even those who learn how to define the classes and method using `self` might not really understand *why* it works like it does.\n",
    "\n",
    "When we call a method on a given instance of a class, like for example \n",
    "```\n",
    "deck.shuffle()\n",
    "```\n",
    "This is interpreted behind the scenes by Python as \n",
    "```\n",
    "Deck.shuffle(deck)\n",
    "```\n",
    "And so the method `Deck.shuffle`, even though it is written inside the class, actually just acts like a stand-alone function, the object is simply passed in and manipulated. And so when we define the function we call the first input-argument `self`, because this is the *object itself* (in this case `self = deck`). Note that you can, technically, call this argument something other than `self`, it is just a function argument, like any other. However, it is considered good code style to always use `self` and it will be confusing for others if you use something else. (Most langagues use either \"self\" or \"this\".)"
   ]
  },
  {
   "cell_type": "markdown",
   "metadata": {},
   "source": [
    "### Interfaces\n",
    "\n",
    "In our deck of cards example, we have specific methods the user can use to interact with the deck of cards, and we can call this the interface of the class. To put it simply, the interface is what is \"visible\" or usable from outside the class. If you build a large and complex class, all anyone really needs to interact with it is a good understanding of its interface. In this sense, the interface itself is an abstraction tool. Take a car for example, the interface used for driving that gar is the steering wheel, the pedals and the gear stick. However, under the hood there is an engine and lots of complicated machinery. \n",
    "\n",
    "The act of hiding dirty implementation or technical details under the hood is called *encapsulation*. Encapsulation is useful for keeping code nice and tidy and user friendly. Also, it means that the details under the hood can change without issue, as long as the external interface remains the same. A mechanic can replace the engine in your car, but you will still be able to drive it as before, because the interface is the same.\n",
    "\n",
    "In some languages, like Java and C++, you can explicity define interfaces that define what a class must contain.  These are often described as \"contracts\", as they state what a given class that follows that interface must contain.\n"
   ]
  },
  {
   "cell_type": "markdown",
   "metadata": {},
   "source": [
    "## Special Methods\n",
    "\n",
    "In Python, defining classes often involve implementing *special* methods, also known as *magic* methods. These are methods we do not expect to call explicitly. Rather, we expect Python to call them for us as needed, depending on the situation. They are extremely useful to learn how to use, and they lead to elegant, understandable and usable code. Becoming adept at special methods is cruical if you want to make good Pythonic code.\n",
    "\n",
    "Special methods have specific names, so Python knows what to call. They all use *dunders*, meaning they have to leading and trailing underscores. You have already seen an example of this, the constructor: `__init__`."
   ]
  },
  {
   "cell_type": "markdown",
   "metadata": {},
   "source": [
    "### The constructor (`__init__`)\n",
    "\n",
    "You have already seen the most important example of special methods, the constructor, or initialization special method (`__init__`). This function is called every time you define a new instance of a class."
   ]
  },
  {
   "cell_type": "code",
   "execution_count": 7,
   "metadata": {},
   "outputs": [
    {
     "name": "stdout",
     "output_type": "stream",
     "text": [
      "1520.53084433746\n",
      "5575.279762570685\n"
     ]
    }
   ],
   "source": [
    "from math import pi\n",
    "\n",
    "class Sphere:\n",
    "    def __init__(self, radius):\n",
    "        self.radius = radius\n",
    "        self.area = 4*pi*radius**2\n",
    "        self.volume = 4*pi*radius**3/3\n",
    "\n",
    "football = Sphere(11)\n",
    "print(football.area)\n",
    "print(football.volume)\n"
   ]
  },
  {
   "cell_type": "markdown",
   "metadata": {},
   "source": [
    "Once we define a new instance of the class, the `__init__`-method is called behind the scenes. As usual, the first argument is called \"self\", because this will be the object itself. In addition we send in any additional arugments we need to define an object of the given class. In this example we only use radius, but we could add density, color, and so on. In our constructor we also choose to compute the area and volume of the sphere. This happens automatically when the object is created, so we can imediately read out the computed values from our object."
   ]
  },
  {
   "cell_type": "markdown",
   "metadata": {},
   "source": [
    "### Printing out instances of custom classes\n",
    "\n",
    "If you attempt to call `print` on a custom object, you'll find that it doesn't produce output that is super helpful."
   ]
  },
  {
   "cell_type": "code",
   "execution_count": 8,
   "metadata": {},
   "outputs": [
    {
     "name": "stdout",
     "output_type": "stream",
     "text": [
      "<__main__.Sphere object at 0x7f804461a710>\n"
     ]
    }
   ],
   "source": [
    "print(football)"
   ]
  },
  {
   "cell_type": "markdown",
   "metadata": {},
   "source": [
    "Reading the output we get out the type, in this case `__main__.Sphere` (main because we defined it in our main script, and didn't import it), it tells us it is an object, and then it specifies where in memory the object is stored. \n",
    "\n",
    "To fix this we have to add the string special method (`__str__`). This special method is called when we try to turn our custom object into a string by writing `str(u)`. When calling `print(u)`, Python actually first converts the object to a string behind the scenes before printing it (unlike for example `sys.stdout.write`, where you have to do it manually).\n",
    "\n",
    "This means: if we implement a `__str__` that returns a nicely formatted string, we can print our object exactly as we want it."
   ]
  },
  {
   "cell_type": "code",
   "execution_count": 9,
   "metadata": {},
   "outputs": [
    {
     "name": "stdout",
     "output_type": "stream",
     "text": [
      "Sphere(11)\n"
     ]
    }
   ],
   "source": [
    "from math import pi\n",
    "\n",
    "class Sphere:\n",
    "    def __init__(self, radius):\n",
    "        self.radius = radius\n",
    "        self.area = 4*pi*radius**2\n",
    "        self.volume = 4*pi*radius**3/3\n",
    "\n",
    "    def __str__(self):\n",
    "        return(\"Sphere({})\".format(self.radius))\n",
    "        \n",
    "football = Sphere(11)\n",
    "print(football)"
   ]
  },
  {
   "cell_type": "markdown",
   "metadata": {},
   "source": [
    "A different special method than the string method is the representation special method (`__repr__`). The main difference is that `__str__` is meant to be human readable, so it works with `print()` and such. This means that `__str__` can be informal, and ambigious, as long as it is somewhat informative. On the other hand we have `__repr__`, which is meant to be unambigious and more formal. It should be a unique representation of the object so that it could be used to recreate that object later. When calling `repr(u)` we should get a string that we for example can write to a file, then later load in and execute that statement to get the object back. So `eval(repr(u))` should give `u`.\n",
    "\n",
    "Repr is also called when printing out elements inside a list for example, so if we write out our football inside a list, the output will be as before, despite having implemented a str-method. To fix this we would need to add a repr instead, or in addtion to, the str-method."
   ]
  },
  {
   "cell_type": "code",
   "execution_count": 10,
   "metadata": {},
   "outputs": [
    {
     "name": "stdout",
     "output_type": "stream",
     "text": [
      "[<__main__.Sphere object at 0x7f80445632e8>]\n"
     ]
    }
   ],
   "source": [
    "print([football])"
   ]
  },
  {
   "cell_type": "markdown",
   "metadata": {},
   "source": [
    "## Making callable objects\n",
    "\n",
    "Another important special method is the *call* method (`__call__`). If a class has an implemented call method, we can call a given object as though it were a function. This is because Python will use the call-method behind the scenes. This is extremely useful when we want to create objects that represent mathematical functions.\n",
    "\n",
    "Say for example we want to make a class for quadratic functions, which can be written as\n",
    "$$f(x) = ax^2 + bx + c.$$\n",
    "Here, there a three free parameters, the coefficients $a$, $b$, and $c$. We therefore let the constructor take these in. We then implement the mathematical function itself as the call special method:"
   ]
  },
  {
   "cell_type": "code",
   "execution_count": 11,
   "metadata": {},
   "outputs": [
    {
     "name": "stdout",
     "output_type": "stream",
     "text": [
      "25\n"
     ]
    }
   ],
   "source": [
    "class Quadratic:\n",
    "    def __init__(self, a, b, c):\n",
    "        self.coefficients = a, b, c\n",
    "    \n",
    "    def __call__(self, x):\n",
    "        a, b, c = self.coefficients\n",
    "        return a*x**2 + b*x + c\n",
    "    \n",
    "f = Quadratic(1, 2, 1)\n",
    "print(f(4))"
   ]
  },
  {
   "cell_type": "markdown",
   "metadata": {},
   "source": [
    "Here, when we assign `f = Quadratic(1, 2, 1)`, we are creating a new object of the class that represents the function $f(x) = x^2 + 2x + 1$. It isn't actually a Python function, but it is *callable*. We can therefore use it as if it were a normal function and call it by writing `f(4)`. When we write this, Python interprets it behind-the-scenes as\n",
    "```Python\n",
    "Quadratic.__call__(f, 4)\n",
    "```\n",
    "\n",
    "We can now easily create quadratic functions and use them as normal functions:"
   ]
  },
  {
   "cell_type": "code",
   "execution_count": 23,
   "metadata": {},
   "outputs": [
    {
     "data": {
      "image/png": "[encoded data removed]",
      "text/plain": [
       "<Figure size 432x288 with 1 Axes>"
      ]
     },
     "metadata": {},
     "output_type": "display_data"
    }
   ],
   "source": [
    "import numpy as np\n",
    "import matplotlib.pyplot as plt\n",
    "\n",
    "f = Quadratic(1, 2, 1)\n",
    "g = Quadratic(-1, 4, 4)\n",
    "h = Quadratic(0, -2, 3)\n",
    "\n",
    "x = np.linspace(-4, 4, 101)\n",
    "plt.plot(x, f(x))\n",
    "plt.plot(x, g(x))\n",
    "plt.plot(x, h(x))\n",
    "plt.show()"
   ]
  },
  {
   "cell_type": "markdown",
   "metadata": {},
   "source": [
    "There are several advantages to implementing these quadratic functions as actual Quadratic-objects, rather than as normal Python functions. For one, they now have a custom type, which we can check using `isinstance(f, Quadratic)`. Thus, other parts of our code *knows* that the function is a quadratic function. We can also extend the class adding plenty of useful functionality. We could for example add functionality for adding or subtracting functions, producing new Quadratic-objects. This cannot be done with normal functions. Or we could add a method for returning the derivative. If you do this week's exercises, you will get the chance to implement all of these for a general degree polynomial."
   ]
  },
  {
   "cell_type": "markdown",
   "metadata": {},
   "source": [
    "The fact that we can use callable objects as if they were functions is very useful in Python, and it is an example of [*polymorphism*](https://en.wikipedia.org/wiki/Polymorphism_(computer_science). Polymorphism is another of the pillars of OOP, but the concept is a bit tricky to define or understand. The term itself comes from greek and means \"many forms\". It is a means of generalizing code, in that we can write different code that behaves the same under given circumstances, and thus we can use those objects as long as they have a given property we need. In this case, we can create objects that acts and feels like functions, and we can use them for any purpose were we need a Python function. \n",
    "\n",
    "This is an example of Python's [*duck typing*](https://en.wikipedia.org/wiki/Duck_typing). This term comes from the saying: *\"If it walks like a duck and it quacks like a duck\"*. What we mean by this is that what *type* a given object is isn't that important, what is important is it's behavior. In Python we therefore shouldn't check wether a given input is a Python function, instead we should check wether it is *callable*. This can be done with the built-in function:\n",
    "```Python\n",
    "iscallable(f)\n",
    "```\n"
   ]
  },
  {
   "cell_type": "markdown",
   "metadata": {},
   "source": [
    "#### Example: The derivative class\n",
    "\n",
    "Let's say we are given a function `newton(f, dfdx, x0)` that implements Newton's method. We want to use this function to find the roots of a function $f(x)$, however, we don't know the derivative $f'(x)$, that must also be sent in and we cannot find it analytically. Now, we know how to derivate the function numerically, but we must send in a *callable* function as an argument, we cannot send in an array of values of the derivative.\n",
    "\n",
    "We can circumvent this by creating a `Derivative` class that creates a callable object of `f`:"
   ]
  },
  {
   "cell_type": "code",
   "execution_count": 13,
   "metadata": {},
   "outputs": [],
   "source": [
    "class Derivative:\n",
    "    def __init__(self, f, h=1e-6):\n",
    "        self.f = f\n",
    "        self.h = h\n",
    "    \n",
    "    def __call__(self, x):\n",
    "        h = self.h\n",
    "        return (self.f(x+h) - self.f(x-h))/(2*h)"
   ]
  },
  {
   "cell_type": "markdown",
   "metadata": {},
   "source": [
    "And using this class, we can implement the derivative as `dfdx = Derivative(f)`. The Newton's method function is now happy, as it has an object it can call to gain a specific value for any $x$. As an example, and test, let us check a trig function:"
   ]
  },
  {
   "cell_type": "code",
   "execution_count": 14,
   "metadata": {},
   "outputs": [
    {
     "name": "stdout",
     "output_type": "stream",
     "text": [
      "0.6762766107115681\n",
      "0.6762766106824172\n"
     ]
    }
   ],
   "source": [
    "x = 0.8281\n",
    "\n",
    "f = np.sin\n",
    "dfdx = Derivative(f)\n",
    "\n",
    "print(dfdx(x))\n",
    "print(np.cos(x))"
   ]
  },
  {
   "cell_type": "markdown",
   "metadata": {},
   "source": [
    "### More Special Methods\n",
    "\n",
    "We have shown just some special methods, and we will look at more examples in the next lecture. For a more comprehensive list and examples, see for example [this site](http://www.diveintopython3.net/special-method-names.html)."
   ]
  },
  {
   "cell_type": "markdown",
   "metadata": {},
   "source": [
    "## Properties\n",
    "\n",
    "Earlier, we had an example for a class representing a sphere, let us repeat it here:"
   ]
  },
  {
   "cell_type": "code",
   "execution_count": 15,
   "metadata": {},
   "outputs": [],
   "source": [
    "class Sphere:\n",
    "    def __init__(self, radius):\n",
    "        self.radius = radius\n",
    "        self.area = 4*pi*radius**2\n",
    "        self.volume = 4*pi*radius**3/3"
   ]
  },
  {
   "cell_type": "markdown",
   "metadata": {},
   "source": [
    "While this works, it might not be that good in practice. For one thing, there is nothing to prevent us from going in to change the one of these fields, without changing the others."
   ]
  },
  {
   "cell_type": "code",
   "execution_count": 16,
   "metadata": {},
   "outputs": [
    {
     "name": "stdout",
     "output_type": "stream",
     "text": [
      "1520.53084433746\n",
      "1520.53084433746\n"
     ]
    }
   ],
   "source": [
    "football = Sphere(11)\n",
    "print(football.area)\n",
    "\n",
    "football.radius = 8\n",
    "print(football.area)"
   ]
  },
  {
   "cell_type": "markdown",
   "metadata": {},
   "source": [
    "When we change the radius, the area doesn't change! A normal user might expect that they can change the radius and that this should work, and so our code is not that user friendly, and definitely not foolproof.\n",
    "\n",
    "\n",
    "\n",
    "One work around we might think of is simply to make the area and the volume into methods to be called, instead of data fields:"
   ]
  },
  {
   "cell_type": "code",
   "execution_count": 17,
   "metadata": {},
   "outputs": [],
   "source": [
    "class Sphere:\n",
    "    def __init__(self, radius):\n",
    "        self.radius = radius\n",
    "        \n",
    "    def area(self):\n",
    "        return 4*pi*self.radius**2\n",
    "    \n",
    "    def volume(self):\n",
    "        return 4*pi*self.radius**3/3"
   ]
  },
  {
   "cell_type": "code",
   "execution_count": 18,
   "metadata": {},
   "outputs": [
    {
     "name": "stdout",
     "output_type": "stream",
     "text": [
      "1520.53084433746\n",
      "804.247719318987\n"
     ]
    }
   ],
   "source": [
    "football = Sphere(11)\n",
    "print(football.area())\n",
    "\n",
    "football.radius = 8\n",
    "print(football.area())"
   ]
  },
  {
   "cell_type": "markdown",
   "metadata": {},
   "source": [
    "Now the code works as expected. However, it might be confusing to the user that the `radius` is a data field, while `area` and `volume` as methods, and thus need to be called. Just writing `football.area` would mean the *method* itself, and not the result of the calculation. This confusion could lead to some weird behavior that might be tricky to catch.\n",
    "\n",
    "One way to fix this is to implement the `area` and `volume` as properties in Python. To do this we use the *decorator* `@property`. A decorater is something you place outside a function/method definition and it changes the functionality of that function in some way. If we add the decorator to these methods, then we don't have to call them, but can treat them as normal data fields:"
   ]
  },
  {
   "cell_type": "code",
   "execution_count": 19,
   "metadata": {},
   "outputs": [
    {
     "name": "stdout",
     "output_type": "stream",
     "text": [
      "1520.53084433746\n",
      "<class 'float'>\n"
     ]
    }
   ],
   "source": [
    "class Sphere:\n",
    "    def __init__(self, radius):\n",
    "        self.radius = radius\n",
    "    \n",
    "    @property\n",
    "    def area(self):\n",
    "        return 4*pi*self.radius**2\n",
    "    \n",
    "    @property\n",
    "    def volume(self):\n",
    "        return 4*pi*self.radius**3/3\n",
    "    \n",
    "football = Sphere(11)\n",
    "print(football.area)\n",
    "print(type(football.area))"
   ]
  },
  {
   "cell_type": "markdown",
   "metadata": {},
   "source": [
    "Note that we can access `football.area` without calling the method, we simply treat it as a data.field. Checking the type confirms that it does indeed behave as a `float`!"
   ]
  },
  {
   "cell_type": "markdown",
   "metadata": {},
   "source": [
    "Using the property decorator allows us to implement a method that compiles or computes the data behind the scenes in some way, but allows the user to treat that property as a data field on the outside. We can now change the radius, and the `area` and `volume` properties will also change. \n",
    "\n",
    "However, our code still is a bit weird, as we can only change the radius, and the other two follows, we cannot for specify the area or volume, and get the radius to change automatically. If you were to try to change the area or volume property directly:\n",
    "```Python\n",
    "football.area = 1200\n",
    "```\n",
    "You would get the following error:\n",
    "```\n",
    "AttributeError: can't set attribute\n",
    "```\n",
    "However, we *can* define this behavior into our class by defining a *setter*-method for our property. This is also done using a decorator:"
   ]
  },
  {
   "cell_type": "code",
   "execution_count": 20,
   "metadata": {},
   "outputs": [],
   "source": [
    "from math import pi, sqrt\n",
    "\n",
    "class Sphere:\n",
    "    def __init__(self, radius):\n",
    "        self.radius = radius\n",
    "\n",
    "    @property\n",
    "    def area(self):\n",
    "        return 4*pi*self.radius**2\n",
    "\n",
    "    @area.setter\n",
    "    def area(self, area):\n",
    "        self.radius = sqrt(area/(4*pi))"
   ]
  },
  {
   "cell_type": "markdown",
   "metadata": {},
   "source": [
    "We can now change the radius data field, and the area will change automatically, or we can set the area, and the radius will change automatically (we skipped the volume method now, but we could add this as well)."
   ]
  },
  {
   "cell_type": "code",
   "execution_count": 21,
   "metadata": {},
   "outputs": [
    {
     "name": "stdout",
     "output_type": "stream",
     "text": [
      "    Radius | Area      \n",
      "      11.0 | 1520.5    \n",
      "      10.0 | 1256.6    \n",
      "       9.8 | 1200.0    \n"
     ]
    }
   ],
   "source": [
    "football = Sphere(11)\n",
    "\n",
    "print(\"{:>10} | {:<10}\".format(\"Radius\", \"Area\"))\n",
    "print(\"{:>10.1f} | {:<10.1f}\".format(football.radius, football.area))\n",
    "\n",
    "football.radius = 10\n",
    "print(\"{:>10.1f} | {:<10.1f}\".format(football.radius, football.area))\n",
    "\n",
    "football.area = 1200\n",
    "print(\"{:>10.1f} | {:<10.1f}\".format(football.radius, football.area))"
   ]
  },
  {
   "cell_type": "markdown",
   "metadata": {},
   "source": [
    "#### Avoiding repeated computations\n",
    "\n",
    "Our sphere class now works quite well and is user friendly. They can access the radius, surface area and volume as floats, and can set them directly and the others change as a result. However, this implementation might not be that efficient, as every time the user accesses `.area` or `.volume`, the actual values are computed from scratch. For such a simple computation, this isn't a big deal, but say this class was more complicated and involved a computation taking a minute to complete. It would be annoying to repeat this computation again and again. To get around this, we would store the computed values as *internal* data in the class, that the user should not interact with from outside the class. These are designated by a leading underscore in Python"
   ]
  },
  {
   "cell_type": "code",
   "execution_count": 22,
   "metadata": {},
   "outputs": [],
   "source": [
    "class Sphere:\n",
    "    def __init__(self, radius):\n",
    "        self._radius = radius\n",
    "        self._area = 4*pi*radius**2\n",
    "    \n",
    "    @property\n",
    "    def radius(self):\n",
    "        return self._radius\n",
    "    \n",
    "    @radius.setter\n",
    "    def radius(self, r):\n",
    "        self._radius = r\n",
    "        self._area = 4*pi*self.radius\n",
    "    \n",
    "    @property\n",
    "    def area(self):\n",
    "        return self._area\n",
    "    \n",
    "    @area.setter\n",
    "    def area(self, area):\n",
    "        self._radius = sqrt(area/(4*pi))\n",
    "        self._area = area"
   ]
  },
  {
   "cell_type": "markdown",
   "metadata": {},
   "source": [
    "Now, there is only a computation carried out every time any variable changes. This is more efficient in terms of computations, but less in terms of memory, as we store more data in the class. "
   ]
  },
  {
   "cell_type": "markdown",
   "metadata": {},
   "source": [
    "### Private and Public variables\n",
    "\n",
    "In our final example, the user has the properties `football.radius` and `football.area` they can interact with, while the class itself stores the internal data in the fields `_radius` and `_area`. We call the first two *public* properties or variables. Here, public means that they are accessible from outside the class. The latter two variables are *private*, meaning they should only be accessed from inside the class and are not meant to be used from outside.\n",
    "\n",
    "Note that we give the private variables leading underscores in their name, which indicates they are private. In Python, there is no way to enforce private variables however, and the leading underscore is just a convention. Thus the user can go inn and change these directly: `football._radius = 9`, however, this is breaking the convention that one should change a private variable, and if this breaks the object, it is the users fault. Other languages, such as Java and C++ however, *do* enforce private and public variables. If you attempt to access a private variable from outside, an error is thrown.\n"
   ]
  }
 ],
 "metadata": {
  "kernelspec": {
   "display_name": "Python 3",
   "language": "python",
   "name": "python3"
  },
  "language_info": {
   "codemirror_mode": {
    "name": "ipython",
    "version": 3
   },
   "file_extension": ".py",
   "mimetype": "text/x-python",
   "name": "python",
   "nbconvert_exporter": "python",
   "pygments_lexer": "ipython3",
   "version": "3.6.5"
  }
 },
 "nbformat": 4,
 "nbformat_minor": 2
}
