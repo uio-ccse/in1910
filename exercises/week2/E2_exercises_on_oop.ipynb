{
 "cells": [
  {
   "cell_type": "markdown",
   "metadata": {},
   "source": [
    "## Exercises — Week 2\n",
    "### Introduction to Object-Oriented Programming"
   ]
  },
  {
   "cell_type": "markdown",
   "metadata": {},
   "source": [
    "### Exercise 1 — Quadratic functions\n",
    "\n",
    "In this exercise, we will build on the example given in the lectures of implementing 2nd degree polynomials as objects of a custom defined class. A general 2nd degree polynomial, aka, quadratic function, can be written as:\n",
    "$$f(x) = a_2x^2 + a_1x + a_0,$$\n",
    "where the coefficients, $a_2$, $a_1$, and $a_0$ uniquely defines the polynomial."
   ]
  },
  {
   "cell_type": "markdown",
   "metadata": {},
   "source": [
    "#### Exercise 1a) Defining the `Quadratic` class\n",
    "\n",
    "Create a class, `Quadratic`, that represents a general 2nd degree polynomial. Define the following methods:\n",
    "* A constructor (`__init__`)\n",
    "* A call method (`__call__`)\n",
    "The constructor should take in the three coefficients in order: `a_2`, `a_1`, and `a_0`, and the call method should take the free variable `x`.\n",
    "\n",
    "You class should be able to handle the following test script:\n",
    "***\n",
    "```Python \n",
    "f = Quadratic(1, -2, 1)\n",
    "x = np.linspace(-5, 5, 101)\n",
    "plt.plot(x, f(x))\n",
    "plt.show()\n",
    "```\n",
    "***"
   ]
  },
  {
   "cell_type": "markdown",
   "metadata": {},
   "source": [
    "#### Exercise 1b) Pretty printing\n",
    "\n",
    "Extend your `Quadratic` class with a string special method (`__str__`) so that you can print a Polynomial object  and get the polynomial written out on a readable form. Test by creating a polynomial object and printing it out."
   ]
  },
  {
   "cell_type": "markdown",
   "metadata": {},
   "source": [
    "#### Exercise 1c) Adding together polynomials\n",
    "\n",
    "Adding together two general quadratic functions:\n",
    "$$f(x) = a_2x^2 + a_1 x + a_0, \\qquad g(x) = b_2x^2 + b_1 x + b_0,$$\n",
    "gives a new quadratic function:\n",
    "$$(f + g)(x) = (a_2 + b_2)x^2 + (a_1 + b_1)x + (a_0 + b_0)$$\n",
    "\n",
    "Implement this functionality using the addition special method (`__add__`). This method should return a new Quadratic-object, without changing the two that are added together. Your new class should be able to handle the following test script:\n",
    "***\n",
    "```Python \n",
    "f = Quadratic(1, -2, 1)\n",
    "g = Quadratic(-1, 6, -3)\n",
    "\n",
    "h = f + g\n",
    "print(h)\n",
    "\n",
    "x = np.linspace(-5, 5, 101)\n",
    "plt.plot(x, h(x))\n",
    "plt.show()\n",
    "```\n",
    "***\n",
    "(Because $a_2 + b_2 = 0$, the resulting plot should be a straight line.)"
   ]
  },
  {
   "cell_type": "markdown",
   "metadata": {},
   "source": [
    "#### Exercise 1d) Finding the roots\n",
    "\n",
    "The roots of a general quadratic function,\n",
    "$$f(x) = ax^2+bx+c = 0,$$\n",
    "are given by the quadratic formula\n",
    "$${\\displaystyle x={\\frac {-b\\pm {\\sqrt {b^{2}-4ac}}}{2a}}.}$$\n",
    "\n",
    "Extend your `Quadratic` function with a method `.roots()` that finds and returns the real roots of the function (ignore the imaginary ones). Return the result as a tuple with 0, 1, or 2 elements.\n",
    "\n",
    "Test your method on the three polynomials:\n",
    "* $2x^2 -2x + 2$\n",
    "* $x^2 - 2x + 1$\n",
    "* $x^2 -3x + 2$"
   ]
  },
  {
   "cell_type": "markdown",
   "metadata": {},
   "source": [
    "#### Exercise 1e) Finding the intersection of two quadratic functions\n",
    "\n",
    "Extend your class with a method that finds and returns the intersection points (if any) between two `Quadratic`-objects. It should work as follows:\n",
    "\n",
    "***\n",
    "```Python\n",
    "f = Quadratic(1, -2, 1)\n",
    "g = Quadratic(-2, 4, -2)\n",
    "\n",
    "print(f.intersect(g))\n",
    "```\n",
    "***\n",
    "**Hint:** The intersections are all points solving $f(x) = g(x)$, which can be written as $(f-g)(x) = 0$.\n",
    "\n",
    "Test your solution by plotting the two functions and their intersections:\n",
    "$$f(x) = x^2 -2x + 1, \\qquad g(x) = 2x^2 + 3x - 2.$$"
   ]
  },
  {
   "cell_type": "markdown",
   "metadata": {},
   "source": [
    "### Exercise 2 — A class for general polynomials\n",
    "\n",
    "We now turn to looking at general polynomials of degree $n$. These can be written as \n",
    "$$f(x) = a_{n}x^{n}+a_{n-1}x^{n-1}+\\dotsb +a_{2}x^{2}+a_{1}x+a_{0},$$\n",
    "or more compactly as\n",
    "$${\\displaystyle \\sum _{k=0}^{n}a_{k}x^{k}}.$$\n",
    "\n",
    "We want to make a class that represents such a polynomial, and can take any number of coefficients in. The constructor of such a class could for example take in a list of the coefficients: `[a0, a1, ..., aN]`. However, this list will always have to be of length $N$, and say we want to specify the polynomial $x^{1000} + 1$, it is highly inefficient to pass in such a long list, as most coefficients are actually 0.\n",
    "\n",
    "A better approach is to use a dictionary, where we use the index as the key and the coefficient as the value. Doing this, we can then specify only the non-zero coefficients, and simply skip those that are 0. So defining $x^{1000} + 1$ would simply be: `Polynomial({0: 1, 1000: 1})`.\n"
   ]
  },
  {
   "cell_type": "markdown",
   "metadata": {},
   "source": [
    "#### Exercise 2a) Defining the Polynomial class\n",
    "\n",
    "Define the `Polynomial` class with the following methods\n",
    "* A constructor (`__init__`) that takes in the coefficients of the polynomial as a dictionary\n",
    "* A call method (`__call__`) that computes f(x) for a given x\n",
    "* A string method (`__str__`) for informative pritning of the polynomial\n",
    "\n",
    "Your class should be able to handle the following test script\n",
    "\n",
    "***\n",
    "```Python\n",
    "coeffs = {0: 1, 5:-1, 10:1}\n",
    "f = Polynomial(coeffs)\n",
    "\n",
    "print(f)\n",
    "\n",
    "x = linspace(-1, 1, 101)\n",
    "plt.plot(x, f(x))\n",
    "plt.show()\n",
    "```\n",
    "****"
   ]
  },
  {
   "cell_type": "markdown",
   "metadata": {},
   "source": [
    "#### Exercise 2b): Adding general polynomials together\n",
    "\n",
    "We now want to be able to add together two general polynomial objects, which should produce a new general polynomial object. Mathematically, this is just an extension of the 2nd degree polynomial case which we saw in exercise (1). If we have\n",
    "$$f(x) = {\\displaystyle \\sum _{k=0}^{m}a_{k}x^{k}}, \\qquad g(x)={\\displaystyle \\sum _{k=0}^{n}b_{k}x^{k}},$$\n",
    "the sum will be defined by\n",
    "$$(f + g)(x) = {\\displaystyle \\sum _{k=0}^{\\max(m, n)}(a_{k} + b_{k})x^{k}}.$$\n",
    "Thus, if we add together two polynomials of degree $m$ and $n$, then the sum will have degree $\\max(m, n)$, i.e., the largest of the two.\n",
    "\n",
    "Extend your class to add this functionality using the addition special method (`__add__`).\n",
    "\n",
    "The class should handle the following test case:\n",
    "***\n",
    "```Python\n",
    "f = Polynomial({0:1, 5:-7, 10:1)\n",
    "g = Polynomial({5:7, 10:1, 15:-3)\n",
    "                \n",
    "print(f+g)\n",
    "``` \n",
    "***\n",
    "Which should produce the ouput: $-3x^{15} + 2x^{10} + 1$.\n",
    "\n",
    "**Hint:** You will need to create a new coefficient dictionary for the new polynomial and add in the coefficients from the two polynomials. This can be slightly tricky getting the keys right. Here `collections.defaultdict` can be useful, but it isn't necessary."
   ]
  },
  {
   "cell_type": "markdown",
   "metadata": {},
   "source": [
    "#### Exercise 2c) Defining a `AddableDictionary` class\n",
    "\n",
    "The previous exercise would have been a lot simpler, if we could simply add two dictionary objects together as follows:\n",
    "```Python\n",
    "a = {0: 2, 1: 3, 2: 4}\n",
    "b = {0: -1, 1:3, 2: 3, 3: 2}\n",
    "c = a + b\n",
    "```\n",
    "However, if you try to do this, you get an exception:\n",
    "> `TypeError: unsupported operand type(s) for +: 'dict' and 'dict'`\n",
    "\n",
    "This means that there is no addition special method defined for dictionaries. However, we can extend the normal dictionary class to include this by adding a special method as follows\n",
    "```Python\n",
    "class AddableDict(dict):\n",
    "    def __add__(self, other):\n",
    "        ...\n",
    "```\n",
    "\n",
    "Add the necessary code, so that our new `AddableDict` class can add two dictionaries together as follows:\n",
    "```Python\n",
    "a = AdditionDict({0: 2, 1: 3, 2: 4})\n",
    "b = AdditionDict({0: -1, 1:3, 2: 3, 3: 2})\n",
    "print(a + b)\n",
    "```\n",
    "And give the ouput: `{0: 1, 1: 6, 2: 7, 3: 2}`.\n",
    "\n",
    "Having made the `AddableDict class`, go back and change the Polynomial constructor, so that even if the user sends in the coefficients as a normal dictionary, it is converted to an `AddableDict` inside the Polynomial. Having done this, rewrite `Polynomial.__add__`, which should be trivial."
   ]
  },
  {
   "cell_type": "markdown",
   "metadata": {},
   "source": [
    "#### Exercise 2d) Derivative of a polynomial\n",
    "\n",
    "It is also the case that the derivative of a polynomial is a polynomial, if we have\n",
    "$$f(x) = {\\displaystyle \\sum _{k=0}^{m}a_{k}x^{k}},$$\n",
    "then we get\n",
    "$$f'(x) = {\\displaystyle \\sum _{k=1}^{m} (a_{k}\\cdot k)x^{k-1}},$$\n",
    "which can be written as\n",
    "$$f'(x) = {\\displaystyle \\sum _{k=0}^{m-1} b_k x^{k}},$$\n",
    "where $b_{k} = (k+1)a_{k+1}$.\n",
    "\n",
    "Implement a method, `derivative`, that returns the function $f'(x)$ as a new Polynomial object. Test your function by finding the derivative of \n",
    "$$f(x) = x^{10} - 3x^6 + 2x^2.$$"
   ]
  },
  {
   "cell_type": "markdown",
   "metadata": {},
   "source": [
    "#### Exercise 2e) Multiplying polynomials\n",
    "\n",
    "It is also the case that the *product* of two polynomials form a new polynomial. If we again define\n",
    "$$f(x) = {\\displaystyle \\sum _{k=0}^{m}a_{k}x^{k}}, \\qquad g(x)={\\displaystyle \\sum _{k=0}^{n}b_{k}x^{k}},$$\n",
    "then the product is given by\n",
    "$$(f \\cdot g)(x) = \\left(\\sum _{i = 0}^m a_{i}x^{i}\\right) \\cdot \\left(\\sum _{j=0}^{n} b_{j}x^{j}\\right) = \\sum_{i=0}^m\\sum_{j=0}^n a_i b_j x^{i + j}$$\n",
    "\n",
    "Implement this functionality using the multiplication special method (`__mul__`). To acomplish this, you will need two nested for-loops over the coefficient dictionaries.\n",
    "\n",
    "Test your implementation with the code block\n",
    "***\n",
    "```Python\n",
    "f = Polynomial({2: 4, 1: 1})\n",
    "g = Polynomial({3: 3, 0: 1})\n",
    "print(f*g)\n",
    "```\n",
    "***\n",
    "Which should give the output:\n",
    "$$(4x^2 + x)(3x^3 + 1) = 12x^5 + 3x^4 + 4x^2 + x$$"
   ]
  }
 ],
 "metadata": {
  "kernelspec": {
   "display_name": "Python 3",
   "language": "python",
   "name": "python3"
  },
  "language_info": {
   "codemirror_mode": {
    "name": "ipython",
    "version": 3
   },
   "file_extension": ".py",
   "mimetype": "text/x-python",
   "name": "python",
   "nbconvert_exporter": "python",
   "pygments_lexer": "ipython3",
   "version": "3.6.5"
  }
 },
 "nbformat": 4,
 "nbformat_minor": 2
}
