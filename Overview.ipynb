{
 "cells": [
  {
   "cell_type": "markdown",
   "metadata": {},
   "source": [
    "# Overview of Lectures and Exercises"
   ]
  },
  {
   "cell_type": "markdown",
   "metadata": {},
   "source": [
    "#### Week 1 — Course Overview, Python Refresh, Introduction to Git\n",
    "\n",
    "* Lecture notes\n",
    "    * [L1 Course Overview](lectures/week1/L1_course_overview.ipynb)\n",
    "    * [L1B A quick refresh of Python](lectures/week1/L1B_python_refresh.ipynb)\n",
    "    * [L2 An introduction to Git](lectures/week1/L2_version_control_with_git.ipynb)\n",
    "    \n",
    "    \n",
    "* Exercises\n",
    "    * [E1 Python refresher and Git](exercises/week1/E1_python_refresh_and_git.ipynb)\n",
    "    \n",
    "#### Week 2 — Object-Oriented Programming\n",
    "\n",
    "* Lecture notes\n",
    "    * [L3 Introduction to Object-Oriented Programming](lectures/week2/L3_intro_to_oop.ipynb)\n",
    "    * [L4 Making Classes in Python](lectures/week2/L4_classes_methods_decorators.ipynb)\n",
    "\n",
    "\n",
    "* Exercises\n",
    "    * [E2 Exercises on OOP](exercises/week2/E2_exercises_on_oop.ipynb)\n",
    "\n",
    "#### Week 3 — Testing and Documentation\n",
    "(Materials to be added later.)\n",
    "\n",
    "#### Week 4 — More on Object-Oriented Programming\n",
    "(Materials to be added later.)\n",
    "\n",
    "#### Week 5 — More on Object-Oriented Programming\n",
    "(Materials to be added later.)\n",
    "\n",
    "#### Week 6 — Introduction to C++\n",
    "(Materials to be added later.)\n"
   ]
  }
 ],
 "metadata": {
  "kernelspec": {
   "display_name": "Python 3",
   "language": "python",
   "name": "python3"
  },
  "language_info": {
   "codemirror_mode": {
    "name": "ipython",
    "version": 3
   },
   "file_extension": ".py",
   "mimetype": "text/x-python",
   "name": "python",
   "nbconvert_exporter": "python",
   "pygments_lexer": "ipython3",
   "version": "3.6.5"
  }
 },
 "nbformat": 4,
 "nbformat_minor": 2
}
