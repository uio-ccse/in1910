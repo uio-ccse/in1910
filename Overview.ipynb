{
 "cells": [
  {
   "cell_type": "markdown",
   "metadata": {},
   "source": [
    "# Overview of Lectures and Exercises"
   ]
  },
  {
   "cell_type": "markdown",
   "metadata": {},
   "source": [
    "#### Week 1 — Course Overview, Python Refresh, Introduction to Git\n",
    "\n",
    "* Lecture notes\n",
    "    * [L1 Course Overview](lectures/week1/L1_intro_to_in1910.ipynb)\n",
    "    * [L1b A quick refresh of Python]\n",
    "    * [L2 An introduction to Git]\n",
    "    \n",
    "* Exercises\n",
    "    * [E1 Python refresher and Git](exercises/week1/E1_python_refresh_and_git.ipynb)\n",
    "    \n",
    "**Exercises**\n",
    "* [E1 \n",
    "\n"
   ]
  }
 ],
 "metadata": {
  "kernelspec": {
   "display_name": "Python 3",
   "language": "python",
   "name": "python3"
  },
  "language_info": {
   "codemirror_mode": {
    "name": "ipython",
    "version": 3
   },
   "file_extension": ".py",
   "mimetype": "text/x-python",
   "name": "python",
   "nbconvert_exporter": "python",
   "pygments_lexer": "ipython3",
   "version": "3.6.5"
  }
 },
 "nbformat": 4,
 "nbformat_minor": 2
}
